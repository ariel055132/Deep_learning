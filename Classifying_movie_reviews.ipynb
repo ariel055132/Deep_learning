{
 "cells": [
  {
   "cell_type": "code",
   "execution_count": 1,
   "metadata": {},
   "outputs": [
    {
     "name": "stderr",
     "output_type": "stream",
     "text": [
      "Using TensorFlow backend.\n"
     ]
    },
    {
     "data": {
      "text/plain": [
       "'2.3.1'"
      ]
     },
     "execution_count": 1,
     "metadata": {},
     "output_type": "execute_result"
    }
   ],
   "source": [
    "# Two-class/binary classififcation example: Classifying movie reviews\n",
    "import keras\n",
    "keras.__version__"
   ]
  },
  {
   "cell_type": "code",
   "execution_count": 2,
   "metadata": {},
   "outputs": [
    {
     "data": {
      "text/plain": [
       "[1,\n",
       " 14,\n",
       " 22,\n",
       " 16,\n",
       " 43,\n",
       " 530,\n",
       " 973,\n",
       " 1622,\n",
       " 1385,\n",
       " 65,\n",
       " 458,\n",
       " 4468,\n",
       " 66,\n",
       " 3941,\n",
       " 4,\n",
       " 173,\n",
       " 36,\n",
       " 256,\n",
       " 5,\n",
       " 25,\n",
       " 100,\n",
       " 43,\n",
       " 838,\n",
       " 112,\n",
       " 50,\n",
       " 670,\n",
       " 2,\n",
       " 9,\n",
       " 35,\n",
       " 480,\n",
       " 284,\n",
       " 5,\n",
       " 150,\n",
       " 4,\n",
       " 172,\n",
       " 112,\n",
       " 167,\n",
       " 2,\n",
       " 336,\n",
       " 385,\n",
       " 39,\n",
       " 4,\n",
       " 172,\n",
       " 4536,\n",
       " 1111,\n",
       " 17,\n",
       " 546,\n",
       " 38,\n",
       " 13,\n",
       " 447,\n",
       " 4,\n",
       " 192,\n",
       " 50,\n",
       " 16,\n",
       " 6,\n",
       " 147,\n",
       " 2025,\n",
       " 19,\n",
       " 14,\n",
       " 22,\n",
       " 4,\n",
       " 1920,\n",
       " 4613,\n",
       " 469,\n",
       " 4,\n",
       " 22,\n",
       " 71,\n",
       " 87,\n",
       " 12,\n",
       " 16,\n",
       " 43,\n",
       " 530,\n",
       " 38,\n",
       " 76,\n",
       " 15,\n",
       " 13,\n",
       " 1247,\n",
       " 4,\n",
       " 22,\n",
       " 17,\n",
       " 515,\n",
       " 17,\n",
       " 12,\n",
       " 16,\n",
       " 626,\n",
       " 18,\n",
       " 2,\n",
       " 5,\n",
       " 62,\n",
       " 386,\n",
       " 12,\n",
       " 8,\n",
       " 316,\n",
       " 8,\n",
       " 106,\n",
       " 5,\n",
       " 4,\n",
       " 2223,\n",
       " 5244,\n",
       " 16,\n",
       " 480,\n",
       " 66,\n",
       " 3785,\n",
       " 33,\n",
       " 4,\n",
       " 130,\n",
       " 12,\n",
       " 16,\n",
       " 38,\n",
       " 619,\n",
       " 5,\n",
       " 25,\n",
       " 124,\n",
       " 51,\n",
       " 36,\n",
       " 135,\n",
       " 48,\n",
       " 25,\n",
       " 1415,\n",
       " 33,\n",
       " 6,\n",
       " 22,\n",
       " 12,\n",
       " 215,\n",
       " 28,\n",
       " 77,\n",
       " 52,\n",
       " 5,\n",
       " 14,\n",
       " 407,\n",
       " 16,\n",
       " 82,\n",
       " 2,\n",
       " 8,\n",
       " 4,\n",
       " 107,\n",
       " 117,\n",
       " 5952,\n",
       " 15,\n",
       " 256,\n",
       " 4,\n",
       " 2,\n",
       " 7,\n",
       " 3766,\n",
       " 5,\n",
       " 723,\n",
       " 36,\n",
       " 71,\n",
       " 43,\n",
       " 530,\n",
       " 476,\n",
       " 26,\n",
       " 400,\n",
       " 317,\n",
       " 46,\n",
       " 7,\n",
       " 4,\n",
       " 2,\n",
       " 1029,\n",
       " 13,\n",
       " 104,\n",
       " 88,\n",
       " 4,\n",
       " 381,\n",
       " 15,\n",
       " 297,\n",
       " 98,\n",
       " 32,\n",
       " 2071,\n",
       " 56,\n",
       " 26,\n",
       " 141,\n",
       " 6,\n",
       " 194,\n",
       " 7486,\n",
       " 18,\n",
       " 4,\n",
       " 226,\n",
       " 22,\n",
       " 21,\n",
       " 134,\n",
       " 476,\n",
       " 26,\n",
       " 480,\n",
       " 5,\n",
       " 144,\n",
       " 30,\n",
       " 5535,\n",
       " 18,\n",
       " 51,\n",
       " 36,\n",
       " 28,\n",
       " 224,\n",
       " 92,\n",
       " 25,\n",
       " 104,\n",
       " 4,\n",
       " 226,\n",
       " 65,\n",
       " 16,\n",
       " 38,\n",
       " 1334,\n",
       " 88,\n",
       " 12,\n",
       " 16,\n",
       " 283,\n",
       " 5,\n",
       " 16,\n",
       " 4472,\n",
       " 113,\n",
       " 103,\n",
       " 32,\n",
       " 15,\n",
       " 16,\n",
       " 5345,\n",
       " 19,\n",
       " 178,\n",
       " 32]"
      ]
     },
     "execution_count": 2,
     "metadata": {},
     "output_type": "execute_result"
    }
   ],
   "source": [
    "# Working with the \"IMDB dataset\"\n",
    "# It is preprocessed: the reviews (sequence of words) have been turned into sequences of integers, where each integers stands for a specific word in a dictionary\n",
    "from keras.datasets import imdb\n",
    "# Only keep the top 10000 most frequently occuring words in the training data.\n",
    "# Rare words will be discarded. (about 80Mb)\n",
    "(train_data, train_labels), (test_data, test_labels) = imdb.load_data(num_words=10000)\n",
    "train_data[0] # the first data"
   ]
  },
  {
   "cell_type": "code",
   "execution_count": 3,
   "metadata": {},
   "outputs": [
    {
     "data": {
      "text/plain": [
       "1"
      ]
     },
     "execution_count": 3,
     "metadata": {},
     "output_type": "execute_result"
    }
   ],
   "source": [
    "train_labels[0] # the first label, 0 is negative, 1 is positive"
   ]
  },
  {
   "cell_type": "code",
   "execution_count": 4,
   "metadata": {},
   "outputs": [
    {
     "data": {
      "text/plain": [
       "\"? this film was just brilliant casting location scenery story direction everyone's really suited the part they played and you could just imagine being there robert ? is an amazing actor and now the same being director ? father came from the same scottish island as myself so i loved the fact there was a real connection with this film the witty remarks throughout the film were great it was just brilliant so much that i bought the film as soon as it was released for ? and would recommend it to everyone to watch and the fly fishing was amazing really cried at the end it was so sad and you know what they say if you cry at a film it must have been good and this definitely was also ? to the two little boy's that played the ? of norman and paul they were just brilliant children are often left out of the ? list i think because the stars that play them all grown up are such a big profile for the whole film but these children are amazing and should be praised for what they have done don't you think the whole story was so lovely because it was true and was someone's life after all that was shared with us all\""
      ]
     },
     "execution_count": 4,
     "metadata": {},
     "output_type": "execute_result"
    }
   ],
   "source": [
    "# Optional\n",
    "# Get the reviews back to English words\n",
    "word_index = imdb.get_word_index()\n",
    "reverse_word_index = dict([(value, key) for (key, value) in word_index.items()])\n",
    "decoded_review = ' '.join([reverse_word_index.get(i-3,'?') for i in train_data[0]])\n",
    "decoded_review"
   ]
  },
  {
   "cell_type": "code",
   "execution_count": 5,
   "metadata": {},
   "outputs": [
    {
     "name": "stdout",
     "output_type": "stream",
     "text": [
      "[[0. 1. 1. ... 0. 0. 0.]\n",
      " [0. 1. 1. ... 0. 0. 0.]\n",
      " [0. 1. 1. ... 0. 0. 0.]\n",
      " ...\n",
      " [0. 1. 1. ... 0. 0. 0.]\n",
      " [0. 1. 1. ... 0. 0. 0.]\n",
      " [0. 1. 1. ... 0. 0. 0.]]\n",
      "---------------------------------\n",
      "[[0. 1. 1. ... 0. 0. 0.]\n",
      " [0. 1. 1. ... 0. 0. 0.]\n",
      " [0. 1. 1. ... 0. 0. 0.]\n",
      " ...\n",
      " [0. 1. 1. ... 0. 0. 0.]\n",
      " [0. 1. 1. ... 0. 0. 0.]\n",
      " [0. 1. 1. ... 0. 0. 0.]]\n"
     ]
    }
   ],
   "source": [
    "# Preparing the data. Lists of integers --> tensors\n",
    "# 1. pad the list so that they have the same length, turn them into integer tensor of shape (samples, word_indices)\n",
    "# 2. Encode lists into vectors 0s and 1s --> we use this\n",
    "import numpy as np\n",
    "# dimension is 10000 because we limited 10000 words\n",
    "# sequences is the list we want to input, test_data / train_data, the maximum length is 9999\n",
    "def vectorize_sequences(sequences, dimension=10000):\n",
    "    # Create an all-zero matrix of shape (len(sequences))\n",
    "    results = np.zeros((len(sequences), dimension))\n",
    "    # enumerate: list the data and index at the same time\n",
    "    for i, sequence in enumerate(sequences):\n",
    "        results[i, sequence] = 1  #set specific indices of results[i] to 1\n",
    "    return results\n",
    "# vectorized training_data\n",
    "x_train = vectorize_sequences(train_data)\n",
    "print(x_train)\n",
    "print(\"---------------------------------\")\n",
    "# vectorized test_data\n",
    "x_test = vectorize_sequences(test_data)\n",
    "print(x_test)"
   ]
  },
  {
   "cell_type": "code",
   "execution_count": 6,
   "metadata": {},
   "outputs": [],
   "source": [
    "# vectorize the labels \n",
    "y_train = np.asarray(train_labels).astype('float32')\n",
    "y_test = np.asarray(test_labels).astype('float32')"
   ]
  },
  {
   "cell_type": "code",
   "execution_count": 7,
   "metadata": {},
   "outputs": [],
   "source": [
    "# Input data is vectors. Labels are scalars (1s and 0s).\n",
    "# How many layers to use\n",
    "# How many \"hidden units\" to chose for each layer\n",
    "# 3 layers\n",
    "from keras import models\n",
    "from keras import layers\n",
    "model = models.Sequential()\n",
    "model.add(layers.Dense(16, activation='relu', input_shape=(10000,))) # First-layer , 16 hidden-units , relu as activation function\n",
    "model.add(layers.Dense(16, activation='relu')) # Second-layer , 16 hidden-units , relu as activation function\n",
    "model.add(layers.Dense(1, activation='sigmoid')) # Third-layer , 1 hidden-unit"
   ]
  },
  {
   "cell_type": "code",
   "execution_count": 8,
   "metadata": {},
   "outputs": [
    {
     "data": {
      "text/plain": [
       "'\\n# Can be rewritten as:\\n# lr = learning rate\\n# metric is a function that is used to judge the performance of the model\\nfrom keras import optimizers\\nfrom keras import losses\\nfrom keras import metrics\\n\\nmodel.compile(optimizer=optimizers.RMSprop(lr=0.001),\\n              loss = losses.binary_crossentropy,\\n              matrics=[metrics.binary_accuracy])\\n'"
      ]
     },
     "execution_count": 8,
     "metadata": {},
     "output_type": "execute_result"
    }
   ],
   "source": [
    "# add optimizer and loss function to the network\n",
    "model.compile(optimizer='rmsprop',\n",
    "             loss='binary_crossentropy',\n",
    "             metrics=['accuracy'])\n",
    "\n",
    "'''\n",
    "# Can be rewritten as:\n",
    "# lr = learning rate\n",
    "# metric is a function that is used to judge the performance of the model\n",
    "from keras import optimizers\n",
    "from keras import losses\n",
    "from keras import metrics\n",
    "\n",
    "model.compile(optimizer=optimizers.RMSprop(lr=0.001),\n",
    "              loss = losses.binary_crossentropy,\n",
    "              matrics=[metrics.binary_accuracy])\n",
    "'''"
   ]
  },
  {
   "cell_type": "code",
   "execution_count": 9,
   "metadata": {},
   "outputs": [],
   "source": [
    "# Create validation data for check the validation of data\n",
    "x_val = x_train[:10000]\n",
    "partial_x_train = x_train[10000:]\n",
    "\n",
    "y_val = y_train[:10000]\n",
    "partial_y_train = y_train[10000:]"
   ]
  },
  {
   "cell_type": "code",
   "execution_count": 10,
   "metadata": {},
   "outputs": [
    {
     "name": "stdout",
     "output_type": "stream",
     "text": [
      "Train on 15000 samples, validate on 10000 samples\n",
      "Epoch 1/20\n",
      "15000/15000 [==============================] - 2s 125us/step - loss: 0.5447 - accuracy: 0.7591 - val_loss: 0.4135 - val_accuracy: 0.8704\n",
      "Epoch 2/20\n",
      "15000/15000 [==============================] - 1s 87us/step - loss: 0.3320 - accuracy: 0.8992 - val_loss: 0.3182 - val_accuracy: 0.8877\n",
      "Epoch 3/20\n",
      "15000/15000 [==============================] - 1s 84us/step - loss: 0.2373 - accuracy: 0.9276 - val_loss: 0.2840 - val_accuracy: 0.8922\n",
      "Epoch 4/20\n",
      "15000/15000 [==============================] - 1s 87us/step - loss: 0.1838 - accuracy: 0.9413 - val_loss: 0.2823 - val_accuracy: 0.8857\n",
      "Epoch 5/20\n",
      "15000/15000 [==============================] - 1s 81us/step - loss: 0.1467 - accuracy: 0.9546 - val_loss: 0.2798 - val_accuracy: 0.8872\n",
      "Epoch 6/20\n",
      "15000/15000 [==============================] - 1s 76us/step - loss: 0.1178 - accuracy: 0.9661 - val_loss: 0.3301 - val_accuracy: 0.8713\n",
      "Epoch 7/20\n",
      "15000/15000 [==============================] - 1s 76us/step - loss: 0.0972 - accuracy: 0.9721 - val_loss: 0.3152 - val_accuracy: 0.8815\n",
      "Epoch 8/20\n",
      "15000/15000 [==============================] - 1s 81us/step - loss: 0.0784 - accuracy: 0.9789 - val_loss: 0.3319 - val_accuracy: 0.8816\n",
      "Epoch 9/20\n",
      "15000/15000 [==============================] - 1s 77us/step - loss: 0.0617 - accuracy: 0.9857 - val_loss: 0.3523 - val_accuracy: 0.8764\n",
      "Epoch 10/20\n",
      "15000/15000 [==============================] - 1s 77us/step - loss: 0.0499 - accuracy: 0.9889 - val_loss: 0.3687 - val_accuracy: 0.8774\n",
      "Epoch 11/20\n",
      "15000/15000 [==============================] - 1s 76us/step - loss: 0.0379 - accuracy: 0.9927 - val_loss: 0.4019 - val_accuracy: 0.8783\n",
      "Epoch 12/20\n",
      "15000/15000 [==============================] - 1s 85us/step - loss: 0.0296 - accuracy: 0.9947 - val_loss: 0.4232 - val_accuracy: 0.8760\n",
      "Epoch 13/20\n",
      "15000/15000 [==============================] - 1s 76us/step - loss: 0.0234 - accuracy: 0.9963 - val_loss: 0.4570 - val_accuracy: 0.8726\n",
      "Epoch 14/20\n",
      "15000/15000 [==============================] - 1s 76us/step - loss: 0.0187 - accuracy: 0.9971 - val_loss: 0.4881 - val_accuracy: 0.8692\n",
      "Epoch 15/20\n",
      "15000/15000 [==============================] - 1s 76us/step - loss: 0.0115 - accuracy: 0.9992 - val_loss: 0.5081 - val_accuracy: 0.8721\n",
      "Epoch 16/20\n",
      "15000/15000 [==============================] - 1s 82us/step - loss: 0.0112 - accuracy: 0.9985 - val_loss: 0.5454 - val_accuracy: 0.8700\n",
      "Epoch 17/20\n",
      "15000/15000 [==============================] - 1s 93us/step - loss: 0.0059 - accuracy: 0.9998 - val_loss: 0.5807 - val_accuracy: 0.8699\n",
      "Epoch 18/20\n",
      "15000/15000 [==============================] - 2s 103us/step - loss: 0.0081 - accuracy: 0.9985 - val_loss: 0.6152 - val_accuracy: 0.8697\n",
      "Epoch 19/20\n",
      "15000/15000 [==============================] - 1s 78us/step - loss: 0.0030 - accuracy: 0.9999 - val_loss: 0.6505 - val_accuracy: 0.8680\n",
      "Epoch 20/20\n",
      "15000/15000 [==============================] - 1s 76us/step - loss: 0.0065 - accuracy: 0.9984 - val_loss: 0.6685 - val_accuracy: 0.8684\n"
     ]
    }
   ],
   "source": [
    "history = model.fit(partial_x_train,\n",
    "                    partial_y_train,\n",
    "                    epochs=20,\n",
    "                    batch_size=512,\n",
    "                    validation_data=(x_val, y_val))"
   ]
  },
  {
   "cell_type": "code",
   "execution_count": 11,
   "metadata": {},
   "outputs": [
    {
     "data": {
      "text/plain": [
       "dict_keys(['val_loss', 'val_accuracy', 'loss', 'accuracy'])"
      ]
     },
     "execution_count": 11,
     "metadata": {},
     "output_type": "execute_result"
    }
   ],
   "source": [
    "# model.fit() returns a History object. It object has a member history.\n",
    "history_dict = history.history\n",
    "history_dict.keys()"
   ]
  },
  {
   "cell_type": "code",
   "execution_count": 12,
   "metadata": {},
   "outputs": [
    {
     "data": {
      "text/plain": [
       "<Figure size 640x480 with 1 Axes>"
      ]
     },
     "metadata": {},
     "output_type": "display_data"
    }
   ],
   "source": [
    "# plot the training and validation loss\n",
    "import matplotlib.pyplot as plt\n",
    "acc = history.history['accuracy']\n",
    "val_acc = history.history['val_accuracy']\n",
    "loss = history.history['loss']\n",
    "val_loss = history.history['val_loss']\n",
    "epochs = range(1, len(acc) + 1)\n",
    "# 'bo' is blue dot\n",
    "plt.plot(epochs, loss, 'bo', label='Training loss')\n",
    "# b is solid blue line\n",
    "plt.plot(epochs, val_loss, 'b', label='Validation loss')\n",
    "plt.title('Training and validation loss')\n",
    "plt.xlabel('Epoch')\n",
    "plt.ylabel('Loss')\n",
    "plt.legend()\n",
    "plt.show()\n",
    "# overfitting: validation loss too high\n",
    "# 1. decrease number of epoch (I would try to do this)\n",
    "# 2. Keras drop  (I need further study. = =)"
   ]
  },
  {
   "cell_type": "code",
   "execution_count": 13,
   "metadata": {},
   "outputs": [
    {
     "name": "stderr",
     "output_type": "stream",
     "text": [
      "No handles with labels found to put in legend.\n"
     ]
    },
    {
     "data": {
      "image/png": "[encoded data removed]",
      "text/plain": [
       "<Figure size 432x288 with 1 Axes>"
      ]
     },
     "metadata": {
      "needs_background": "light"
     },
     "output_type": "display_data"
    }
   ],
   "source": [
    "# plot the training and validation accuracy\n",
    "import matplotlib.pyplot as plt\n",
    "acc = history_dict['accuracy'] \n",
    "val_acc = history_dict['val_accuracy']   \n",
    "plt.plot(epochs, val_acc, 'ro', 'Validation accuracy')\n",
    "plt.plot(epochs, acc, 'r', 'Training accuracy')\n",
    "plt.title('Training and Validation accuracy')\n",
    "plt.xlabel('Epochs')\n",
    "plt.ylabel('Loss')\n",
    "plt.legend()\n",
    "plt.show()"
   ]
  },
  {
   "cell_type": "code",
   "execution_count": 17,
   "metadata": {},
   "outputs": [
    {
     "name": "stdout",
     "output_type": "stream",
     "text": [
      "Epoch 1/4\n",
      "15000/15000 [==============================] - 1s 64us/step - loss: 0.5112 - accuracy: 0.7875\n",
      "Epoch 2/4\n",
      "15000/15000 [==============================] - 1s 52us/step - loss: 0.3016 - accuracy: 0.9037\n",
      "Epoch 3/4\n",
      "15000/15000 [==============================] - 1s 54us/step - loss: 0.2206 - accuracy: 0.9300\n",
      "Epoch 4/4\n",
      "15000/15000 [==============================] - 1s 53us/step - loss: 0.1751 - accuracy: 0.9432\n",
      "25000/25000 [==============================] - 2s 62us/step\n"
     ]
    }
   ],
   "source": [
    "# Overfitting is occured. We decrease the epoch times in order to avoid overfitting.\n",
    "model = models.Sequential()\n",
    "model.add(layers.Dense(16, activation='relu', input_shape=(10000,)))\n",
    "model.add(layers.Dense(16, activation='relu'))\n",
    "model.add(layers.Dense(1, activation='sigmoid'))\n",
    "model.compile(optimizer='rmsprop',\n",
    "              loss='binary_crossentropy',\n",
    "            metrics=['accuracy'])\n",
    "history1 = model.fit(partial_x_train,partial_y_train, epochs=4, batch_size=512)\n",
    "results = model.evaluate(x_test, y_test)"
   ]
  },
  {
   "cell_type": "code",
   "execution_count": 18,
   "metadata": {},
   "outputs": [
    {
     "data": {
      "text/plain": [
       "[0.31662995330810545, 0.8706799745559692]"
      ]
     },
     "execution_count": 18,
     "metadata": {},
     "output_type": "execute_result"
    }
   ],
   "source": [
    "results"
   ]
  },
  {
   "cell_type": "code",
   "execution_count": null,
   "metadata": {},
   "outputs": [],
   "source": []
  }
 ],
 "metadata": {
  "kernelspec": {
   "display_name": "Python 3",
   "language": "python",
   "name": "python3"
  },
  "language_info": {
   "codemirror_mode": {
    "name": "ipython",
    "version": 3
   },
   "file_extension": ".py",
   "mimetype": "text/x-python",
   "name": "python",
   "nbconvert_exporter": "python",
   "pygments_lexer": "ipython3",
   "version": "3.7.5"
  }
 },
 "nbformat": 4,
 "nbformat_minor": 2
}
