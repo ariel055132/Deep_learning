{
 "cells": [
  {
   "cell_type": "code",
   "execution_count": 1,
   "metadata": {},
   "outputs": [
    {
     "name": "stderr",
     "output_type": "stream",
     "text": [
      "Using TensorFlow backend.\n",
      "/home/cindy/anaconda3/envs/myenv/lib/python3.7/site-packages/tensorflow/python/framework/dtypes.py:526: FutureWarning: Passing (type, 1) or '1type' as a synonym of type is deprecated; in a future version of numpy, it will be understood as (type, (1,)) / '(1,)type'.\n",
      "  _np_qint8 = np.dtype([(\"qint8\", np.int8, 1)])\n",
      "/home/cindy/anaconda3/envs/myenv/lib/python3.7/site-packages/tensorflow/python/framework/dtypes.py:527: FutureWarning: Passing (type, 1) or '1type' as a synonym of type is deprecated; in a future version of numpy, it will be understood as (type, (1,)) / '(1,)type'.\n",
      "  _np_quint8 = np.dtype([(\"quint8\", np.uint8, 1)])\n",
      "/home/cindy/anaconda3/envs/myenv/lib/python3.7/site-packages/tensorflow/python/framework/dtypes.py:528: FutureWarning: Passing (type, 1) or '1type' as a synonym of type is deprecated; in a future version of numpy, it will be understood as (type, (1,)) / '(1,)type'.\n",
      "  _np_qint16 = np.dtype([(\"qint16\", np.int16, 1)])\n",
      "/home/cindy/anaconda3/envs/myenv/lib/python3.7/site-packages/tensorflow/python/framework/dtypes.py:529: FutureWarning: Passing (type, 1) or '1type' as a synonym of type is deprecated; in a future version of numpy, it will be understood as (type, (1,)) / '(1,)type'.\n",
      "  _np_quint16 = np.dtype([(\"quint16\", np.uint16, 1)])\n",
      "/home/cindy/anaconda3/envs/myenv/lib/python3.7/site-packages/tensorflow/python/framework/dtypes.py:530: FutureWarning: Passing (type, 1) or '1type' as a synonym of type is deprecated; in a future version of numpy, it will be understood as (type, (1,)) / '(1,)type'.\n",
      "  _np_qint32 = np.dtype([(\"qint32\", np.int32, 1)])\n",
      "/home/cindy/anaconda3/envs/myenv/lib/python3.7/site-packages/tensorflow/python/framework/dtypes.py:535: FutureWarning: Passing (type, 1) or '1type' as a synonym of type is deprecated; in a future version of numpy, it will be understood as (type, (1,)) / '(1,)type'.\n",
      "  np_resource = np.dtype([(\"resource\", np.ubyte, 1)])\n"
     ]
    }
   ],
   "source": [
    "'''\n",
    "Keras mnist implementation \n",
    "'''\n",
    "import numpy as np\n",
    "from keras.datasets import mnist\n",
    "from keras.utils.np_utils import to_categorical\n",
    "from keras import models\n",
    "from keras import layers\n",
    "from keras import optimizers\n",
    "\n",
    "# Load and do preprocessing of the data \n",
    "def load_data():\n",
    "    (x_train, y_train), (x_test, y_test) = mnist.load_data()\n",
    "    number = 10000\n",
    "    x_train = x_train[0:number]\n",
    "    y_train = y_train[0:number]\n",
    "    x_train = x_train.reshape(number, 28*28)\n",
    "    x_test = x_test.reshape(x_test.shape[0], 28*28)\n",
    "    x_train = x_train.astype('float32')\n",
    "    x_test = x_test.astype('float32')\n",
    "    # Convert class vectors to binary class matrices (Vectorize the data)\n",
    "    y_train = to_categorical(y_train, 10)\n",
    "    y_test = to_categorical(y_test, 10)\n",
    "    x_train = x_train\n",
    "    x_test = x_test\n",
    "    \n",
    "    x_train = x_train/255\n",
    "    x_test = x_test/255\n",
    "    return (x_train, y_train), (x_test, y_test)\n",
    "\n",
    "(x_train, y_train), (x_test, y_test) = load_data()"
   ]
  },
  {
   "cell_type": "code",
   "execution_count": 2,
   "metadata": {},
   "outputs": [],
   "source": [
    "# set validation set (I do not use in the code)\n",
    "x_val = x_train[:10000]\n",
    "partial_x_train = x_train[10000:]\n",
    "y_val = y_train[:10000]\n",
    "partial_y_train = y_train[10000:]"
   ]
  },
  {
   "cell_type": "code",
   "execution_count": 3,
   "metadata": {},
   "outputs": [
    {
     "name": "stdout",
     "output_type": "stream",
     "text": [
      "WARNING:tensorflow:From /home/cindy/anaconda3/envs/myenv/lib/python3.7/site-packages/tensorflow/python/ops/resource_variable_ops.py:435: colocate_with (from tensorflow.python.framework.ops) is deprecated and will be removed in a future version.\n",
      "Instructions for updating:\n",
      "Colocations handled automatically by placer.\n"
     ]
    }
   ],
   "source": [
    "model = models.Sequential()\n",
    "model.add(layers.Dense(633, activation='relu', input_dim=28*28))\n",
    "model.add(layers.Dense(633, activation='relu'))\n",
    "model.add(layers.Dense(633, activation='relu'))\n",
    "model.add(layers.Dense(10, activation='softmax'))"
   ]
  },
  {
   "cell_type": "code",
   "execution_count": 4,
   "metadata": {},
   "outputs": [
    {
     "name": "stdout",
     "output_type": "stream",
     "text": [
      "WARNING:tensorflow:From /home/cindy/anaconda3/envs/myenv/lib/python3.7/site-packages/tensorflow/python/ops/math_ops.py:3066: to_int32 (from tensorflow.python.ops.math_ops) is deprecated and will be removed in a future version.\n",
      "Instructions for updating:\n",
      "Use tf.cast instead.\n",
      "Epoch 1/20\n",
      "10000/10000 [==============================] - 1s 64us/step - loss: 0.0893 - accuracy: 0.2022\n",
      "Epoch 2/20\n",
      "10000/10000 [==============================] - 0s 43us/step - loss: 0.0864 - accuracy: 0.3942\n",
      "Epoch 3/20\n",
      "10000/10000 [==============================] - 0s 43us/step - loss: 0.0818 - accuracy: 0.4753\n",
      "Epoch 4/20\n",
      "10000/10000 [==============================] - 0s 44us/step - loss: 0.0751 - accuracy: 0.5471\n",
      "Epoch 5/20\n",
      "10000/10000 [==============================] - 0s 43us/step - loss: 0.0662 - accuracy: 0.5873\n",
      "Epoch 6/20\n",
      "10000/10000 [==============================] - 0s 43us/step - loss: 0.0567 - accuracy: 0.6419\n",
      "Epoch 7/20\n",
      "10000/10000 [==============================] - 0s 49us/step - loss: 0.0477 - accuracy: 0.7369\n",
      "Epoch 8/20\n",
      "10000/10000 [==============================] - 0s 47us/step - loss: 0.0403 - accuracy: 0.7760\n",
      "Epoch 9/20\n",
      "10000/10000 [==============================] - 0s 47us/step - loss: 0.0348 - accuracy: 0.7976\n",
      "Epoch 10/20\n",
      "10000/10000 [==============================] - 0s 44us/step - loss: 0.0304 - accuracy: 0.8345\n",
      "Epoch 11/20\n",
      "10000/10000 [==============================] - 0s 47us/step - loss: 0.0269 - accuracy: 0.8564\n",
      "Epoch 12/20\n",
      "10000/10000 [==============================] - 0s 50us/step - loss: 0.0242 - accuracy: 0.8692\n",
      "Epoch 13/20\n",
      "10000/10000 [==============================] - 0s 45us/step - loss: 0.0221 - accuracy: 0.8797\n",
      "Epoch 14/20\n",
      "10000/10000 [==============================] - 0s 43us/step - loss: 0.0205 - accuracy: 0.8856\n",
      "Epoch 15/20\n",
      "10000/10000 [==============================] - 0s 47us/step - loss: 0.0193 - accuracy: 0.8918\n",
      "Epoch 16/20\n",
      "10000/10000 [==============================] - 1s 52us/step - loss: 0.0182 - accuracy: 0.8958\n",
      "Epoch 17/20\n",
      "10000/10000 [==============================] - 0s 47us/step - loss: 0.0174 - accuracy: 0.8997\n",
      "Epoch 18/20\n",
      "10000/10000 [==============================] - 0s 43us/step - loss: 0.0167 - accuracy: 0.9036\n",
      "Epoch 19/20\n",
      "10000/10000 [==============================] - 0s 44us/step - loss: 0.0160 - accuracy: 0.9060\n",
      "Epoch 20/20\n",
      "10000/10000 [==============================] - 0s 43us/step - loss: 0.0155 - accuracy: 0.9086\n",
      "10000/10000 [==============================] - 0s 31us/step\n"
     ]
    }
   ],
   "source": [
    "SGD = optimizers.SGD(lr=0.1)\n",
    "model.compile(loss='mse', optimizer=SGD, metrics=['accuracy'])\n",
    "history = model.fit(x_train, y_train, epochs=20, batch_size=100)\n",
    "result = model.evaluate(x_test, y_test)"
   ]
  },
  {
   "cell_type": "code",
   "execution_count": 5,
   "metadata": {},
   "outputs": [
    {
     "data": {
      "text/plain": [
       "[0.016136343795992433, 0.9017999768257141]"
      ]
     },
     "execution_count": 5,
     "metadata": {},
     "output_type": "execute_result"
    }
   ],
   "source": [
    "result\n",
    "# Training Accuracy is about 90%, loss is about 10%"
   ]
  },
  {
   "cell_type": "code",
   "execution_count": 6,
   "metadata": {},
   "outputs": [
    {
     "data": {
      "text/plain": [
       "dict_keys(['loss', 'accuracy'])"
      ]
     },
     "execution_count": 6,
     "metadata": {},
     "output_type": "execute_result"
    }
   ],
   "source": [
    "history_dict = history.history\n",
    "history_dict.keys()"
   ]
  },
  {
   "cell_type": "code",
   "execution_count": null,
   "metadata": {},
   "outputs": [],
   "source": []
  }
 ],
 "metadata": {
  "kernelspec": {
   "display_name": "Python 3",
   "language": "python",
   "name": "python3"
  },
  "language_info": {
   "codemirror_mode": {
    "name": "ipython",
    "version": 3
   },
   "file_extension": ".py",
   "mimetype": "text/x-python",
   "name": "python",
   "nbconvert_exporter": "python",
   "pygments_lexer": "ipython3",
   "version": "3.7.6"
  }
 },
 "nbformat": 4,
 "nbformat_minor": 4
}
