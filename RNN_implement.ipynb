{
 "cells": [
  {
   "cell_type": "code",
   "execution_count": 1,
   "metadata": {},
   "outputs": [
    {
     "data": {
      "text/plain": [
       "array([0.99999942, 0.99999799, 0.99999702, ..., 1.        , 1.        ,\n",
       "       1.        ])"
      ]
     },
     "execution_count": 1,
     "metadata": {},
     "output_type": "execute_result"
    }
   ],
   "source": [
    "# RNN implement with numpy\n",
    "import numpy as np\n",
    "# timesteps: the amount of time step you run the RNN\n",
    "timesteps = 100 \n",
    "# dimensionality of the input feature space\n",
    "input_features = 32\n",
    "# dimensionality of the output feature space\n",
    "output_features = 64\n",
    "\n",
    "# input data takes batch of 100 sequences of length 32\n",
    "inputs = np.random.random((timesteps, input_features))\n",
    "# states output and put into next layer\n",
    "state_t = np.zeros((output_features,))\n",
    "\n",
    "# weights (for step function)\n",
    "W = np.random.random((output_features, input_features))\n",
    "U = np.random.random((output_features, output_features))\n",
    "b = np.random.random((output_features,))\n",
    "\n",
    "successive_outputs = []\n",
    "for input_t in inputs:\n",
    "    output_t = np.tanh(np.dot(W, input_t) + np.dot(U, state_t) + b)\n",
    "    successive_outputs.append(output_t)\n",
    "    state_t = output_t\n",
    "final_output_sentence = np.concatenate(successive_outputs, axis=0)\n",
    "final_output_sentence"
   ]
  },
  {
   "cell_type": "code",
   "execution_count": 2,
   "metadata": {},
   "outputs": [
    {
     "name": "stderr",
     "output_type": "stream",
     "text": [
      "Using TensorFlow backend.\n"
     ]
    },
    {
     "name": "stdout",
     "output_type": "stream",
     "text": [
      "Model: \"sequential_1\"\n",
      "_________________________________________________________________\n",
      "Layer (type)                 Output Shape              Param #   \n",
      "=================================================================\n",
      "embedding_1 (Embedding)      (None, None, 32)          320000    \n",
      "_________________________________________________________________\n",
      "simple_rnn_1 (SimpleRNN)     (None, 32)                2080      \n",
      "=================================================================\n",
      "Total params: 322,080\n",
      "Trainable params: 322,080\n",
      "Non-trainable params: 0\n",
      "_________________________________________________________________\n"
     ]
    }
   ],
   "source": [
    "from keras.models import Sequential\n",
    "from keras.layers import Embedding, SimpleRNN\n",
    "model = Sequential()\n",
    "# input dimensionality = 10000, output dimensionality = 32\n",
    "model.add(Embedding(10000, 32))\n",
    "# dimensionality of output = 32\n",
    "model.add(SimpleRNN(32))\n",
    "model.summary()"
   ]
  },
  {
   "cell_type": "code",
   "execution_count": 3,
   "metadata": {},
   "outputs": [
    {
     "name": "stdout",
     "output_type": "stream",
     "text": [
      "Model: \"sequential_2\"\n",
      "_________________________________________________________________\n",
      "Layer (type)                 Output Shape              Param #   \n",
      "=================================================================\n",
      "embedding_2 (Embedding)      (None, None, 32)          320000    \n",
      "_________________________________________________________________\n",
      "simple_rnn_2 (SimpleRNN)     (None, None, 32)          2080      \n",
      "=================================================================\n",
      "Total params: 322,080\n",
      "Trainable params: 322,080\n",
      "Non-trainable params: 0\n",
      "_________________________________________________________________\n"
     ]
    }
   ],
   "source": [
    "model = Sequential()\n",
    "model.add(Embedding(10000, 32))\n",
    "# return 3D tensor with shape\n",
    "# return_sequences: whether to return the last output in the output sequence\n",
    "model.add(SimpleRNN(32, return_sequences=True))\n",
    "model.summary()"
   ]
  },
  {
   "cell_type": "code",
   "execution_count": 4,
   "metadata": {},
   "outputs": [
    {
     "name": "stdout",
     "output_type": "stream",
     "text": [
      "Model: \"sequential_3\"\n",
      "_________________________________________________________________\n",
      "Layer (type)                 Output Shape              Param #   \n",
      "=================================================================\n",
      "embedding_3 (Embedding)      (None, None, 32)          320000    \n",
      "_________________________________________________________________\n",
      "simple_rnn_3 (SimpleRNN)     (None, None, 32)          2080      \n",
      "_________________________________________________________________\n",
      "simple_rnn_4 (SimpleRNN)     (None, None, 32)          2080      \n",
      "_________________________________________________________________\n",
      "simple_rnn_5 (SimpleRNN)     (None, None, 32)          2080      \n",
      "_________________________________________________________________\n",
      "simple_rnn_6 (SimpleRNN)     (None, 32)                2080      \n",
      "=================================================================\n",
      "Total params: 328,320\n",
      "Trainable params: 328,320\n",
      "Non-trainable params: 0\n",
      "_________________________________________________________________\n"
     ]
    }
   ],
   "source": [
    "# stack several Recurrent layers one after the other in order to increase the representational power of a network\n",
    "model = Sequential()\n",
    "model.add(Embedding(10000,32))\n",
    "model.add(SimpleRNN(32, return_sequences=True))\n",
    "model.add(SimpleRNN(32, return_sequences=True))\n",
    "model.add(SimpleRNN(32, return_sequences=True))\n",
    "model.add(SimpleRNN(32))\n",
    "model.summary()"
   ]
  },
  {
   "cell_type": "code",
   "execution_count": 5,
   "metadata": {},
   "outputs": [
    {
     "name": "stdout",
     "output_type": "stream",
     "text": [
      "Loading data...\n",
      "Train sequences 25000\n",
      "Test sequences 25000\n",
      "input train shape: (25000, 500)\n",
      "input test shape: (25000, 500)\n"
     ]
    }
   ],
   "source": [
    "# model on the IMDB movie-review classification problem\n",
    "# 1. Preprocess the data\n",
    "from keras.datasets import imdb\n",
    "from keras.preprocessing import sequence\n",
    "\n",
    "max_features = 10000 # number of words to consider as features\n",
    "maxlen = 500 # cut off 500 words after 10000 words\n",
    "batch_size = 32\n",
    "print('Loading data...')\n",
    "(input_train, y_train), (input_test, y_test) = imdb.load_data(num_words=max_features)\n",
    "print('Train sequences', len(input_train))\n",
    "print('Test sequences', len(input_test))\n",
    "\n",
    "# pad_sequences(): pad sequences to the same length\n",
    "# sequence: list of lists, where each element is a sequence\n",
    "# maxlen: int, max length of all sequences\n",
    "input_train = sequence.pad_sequences(input_train, maxlen=maxlen)\n",
    "input_test = sequence.pad_sequences(input_test, maxlen=maxlen)\n",
    "print('input train shape:', input_train.shape)\n",
    "print('input test shape:', input_test.shape)"
   ]
  },
  {
   "cell_type": "code",
   "execution_count": 6,
   "metadata": {},
   "outputs": [
    {
     "name": "stdout",
     "output_type": "stream",
     "text": [
      "Model: \"sequential_4\"\n",
      "_________________________________________________________________\n",
      "Layer (type)                 Output Shape              Param #   \n",
      "=================================================================\n",
      "embedding_4 (Embedding)      (None, None, 32)          320000    \n",
      "_________________________________________________________________\n",
      "simple_rnn_7 (SimpleRNN)     (None, 32)                2080      \n",
      "_________________________________________________________________\n",
      "dense_1 (Dense)              (None, 1)                 33        \n",
      "=================================================================\n",
      "Total params: 322,113\n",
      "Trainable params: 322,113\n",
      "Non-trainable params: 0\n",
      "_________________________________________________________________\n"
     ]
    },
    {
     "name": "stderr",
     "output_type": "stream",
     "text": [
      "/home/cindy/anaconda3/envs/myenv/lib/python3.7/site-packages/tensorflow_core/python/framework/indexed_slices.py:424: UserWarning: Converting sparse IndexedSlices to a dense Tensor of unknown shape. This may consume a large amount of memory.\n",
      "  \"Converting sparse IndexedSlices to a dense Tensor of unknown shape. \"\n"
     ]
    },
    {
     "name": "stdout",
     "output_type": "stream",
     "text": [
      "Train on 20000 samples, validate on 5000 samples\n",
      "Epoch 1/10\n",
      "20000/20000 [==============================] - 23s 1ms/step - loss: 0.5702 - acc: 0.7054 - val_loss: 0.4108 - val_acc: 0.8316\n",
      "Epoch 2/10\n",
      "20000/20000 [==============================] - 22s 1ms/step - loss: 0.3612 - acc: 0.8532 - val_loss: 0.3565 - val_acc: 0.8516\n",
      "Epoch 3/10\n",
      "20000/20000 [==============================] - 22s 1ms/step - loss: 0.2701 - acc: 0.8961 - val_loss: 0.3479 - val_acc: 0.8660\n",
      "Epoch 4/10\n",
      "20000/20000 [==============================] - 23s 1ms/step - loss: 0.2209 - acc: 0.9158 - val_loss: 0.3448 - val_acc: 0.8626\n",
      "Epoch 5/10\n",
      "20000/20000 [==============================] - 23s 1ms/step - loss: 0.1734 - acc: 0.9360 - val_loss: 0.4297 - val_acc: 0.8074\n",
      "Epoch 6/10\n",
      "20000/20000 [==============================] - 23s 1ms/step - loss: 0.1395 - acc: 0.9481 - val_loss: 0.4577 - val_acc: 0.8572\n",
      "Epoch 7/10\n",
      "20000/20000 [==============================] - 23s 1ms/step - loss: 0.1003 - acc: 0.9640 - val_loss: 0.4527 - val_acc: 0.8502\n",
      "Epoch 8/10\n",
      "20000/20000 [==============================] - 23s 1ms/step - loss: 0.0819 - acc: 0.9725 - val_loss: 0.5251 - val_acc: 0.8522\n",
      "Epoch 9/10\n",
      "20000/20000 [==============================] - 23s 1ms/step - loss: 0.0518 - acc: 0.9833 - val_loss: 0.5066 - val_acc: 0.8362\n",
      "Epoch 10/10\n",
      "20000/20000 [==============================] - 23s 1ms/step - loss: 0.0333 - acc: 0.9898 - val_loss: 0.5459 - val_acc: 0.8494\n"
     ]
    }
   ],
   "source": [
    "from keras.layers import Dense\n",
    "model = Sequential()\n",
    "model.add(Embedding(10000, 32))\n",
    "model.add(SimpleRNN(32))\n",
    "model.add(Dense(1, activation='sigmoid'))\n",
    "model.summary()\n",
    "\n",
    "model.compile(optimizer='rmsprop', loss='binary_crossentropy', metrics=['acc'])\n",
    "history = model.fit(input_train, y_train,\n",
    "                   epochs = 10,\n",
    "                   batch_size = 128,\n",
    "                   validation_split=0.2)\n",
    "# 20% of training data --> validation data"
   ]
  },
  {
   "cell_type": "code",
   "execution_count": 7,
   "metadata": {},
   "outputs": [
    {
     "data": {
      "text/plain": [
       "dict_keys(['val_loss', 'val_acc', 'loss', 'acc'])"
      ]
     },
     "execution_count": 7,
     "metadata": {},
     "output_type": "execute_result"
    }
   ],
   "source": [
    "history_dict = history.history\n",
    "history_dict.keys()"
   ]
  },
  {
   "cell_type": "code",
   "execution_count": 8,
   "metadata": {},
   "outputs": [
    {
     "data": {
      "image/png": "[encoded data removed]",
      "text/plain": [
       "<Figure size 432x288 with 1 Axes>"
      ]
     },
     "metadata": {
      "needs_background": "light"
     },
     "output_type": "display_data"
    },
    {
     "data": {
      "image/png": "[encoded data removed]",
      "text/plain": [
       "<Figure size 432x288 with 1 Axes>"
      ]
     },
     "metadata": {
      "needs_background": "light"
     },
     "output_type": "display_data"
    }
   ],
   "source": [
    "# Plot the training and validation loss and accuracy\n",
    "import matplotlib.pyplot as plt\n",
    "%matplotlib inline\n",
    "acc = history.history['acc']\n",
    "val_acc = history.history['val_acc']\n",
    "loss = history.history['loss']\n",
    "val_loss = history.history['val_loss']\n",
    "epochs = range(len(acc))\n",
    "\n",
    "# Plot the training and validation accuracy graph\n",
    "# x-axis is epochs, y-axis is acc / val_acc\n",
    "plt.figure()\n",
    "plt.plot(epochs, acc, 'bo', label='Training acc')\n",
    "plt.plot(epochs, val_acc, 'b', label='Validation acc')\n",
    "plt.title('Training and validation accuracy')\n",
    "plt.legend()\n",
    "\n",
    "# Plot the training and validation loss graph\n",
    "plt.figure()\n",
    "plt.plot(epochs, loss, 'ro', label='Training loss')\n",
    "plt.plot(epochs, val_loss, 'r', label='Validation loss')\n",
    "plt.title('Training and validation loss')\n",
    "plt.legend()\n",
    "\n",
    "plt.show()\n",
    "# The recurrent network does not perform very well"
   ]
  },
  {
   "cell_type": "code",
   "execution_count": 9,
   "metadata": {},
   "outputs": [
    {
     "name": "stderr",
     "output_type": "stream",
     "text": [
      "/home/cindy/anaconda3/envs/myenv/lib/python3.7/site-packages/tensorflow_core/python/framework/indexed_slices.py:424: UserWarning: Converting sparse IndexedSlices to a dense Tensor of unknown shape. This may consume a large amount of memory.\n",
      "  \"Converting sparse IndexedSlices to a dense Tensor of unknown shape. \"\n"
     ]
    },
    {
     "name": "stdout",
     "output_type": "stream",
     "text": [
      "Train on 20000 samples, validate on 5000 samples\n",
      "Epoch 1/10\n",
      "20000/20000 [==============================] - 47s 2ms/step - loss: 0.4952 - acc: 0.7692 - val_loss: 0.3798 - val_acc: 0.8398\n",
      "Epoch 2/10\n",
      "20000/20000 [==============================] - 46s 2ms/step - loss: 0.2946 - acc: 0.8823 - val_loss: 0.4417 - val_acc: 0.8150\n",
      "Epoch 3/10\n",
      "20000/20000 [==============================] - 46s 2ms/step - loss: 0.2343 - acc: 0.9119 - val_loss: 0.2970 - val_acc: 0.8748\n",
      "Epoch 4/10\n",
      "20000/20000 [==============================] - 46s 2ms/step - loss: 0.1939 - acc: 0.9295 - val_loss: 0.3024 - val_acc: 0.8852\n",
      "Epoch 5/10\n",
      "20000/20000 [==============================] - 46s 2ms/step - loss: 0.1716 - acc: 0.9383 - val_loss: 0.3020 - val_acc: 0.8784\n",
      "Epoch 6/10\n",
      "20000/20000 [==============================] - 46s 2ms/step - loss: 0.1521 - acc: 0.9456 - val_loss: 0.3502 - val_acc: 0.8502\n",
      "Epoch 7/10\n",
      "20000/20000 [==============================] - 46s 2ms/step - loss: 0.1353 - acc: 0.9519 - val_loss: 0.3490 - val_acc: 0.8526\n",
      "Epoch 8/10\n",
      "20000/20000 [==============================] - 46s 2ms/step - loss: 0.1255 - acc: 0.9553 - val_loss: 0.3234 - val_acc: 0.8670\n",
      "Epoch 9/10\n",
      "20000/20000 [==============================] - 46s 2ms/step - loss: 0.1168 - acc: 0.9603 - val_loss: 0.4432 - val_acc: 0.8516\n",
      "Epoch 10/10\n",
      "20000/20000 [==============================] - 50s 3ms/step - loss: 0.1097 - acc: 0.9624 - val_loss: 0.3651 - val_acc: 0.8768\n"
     ]
    }
   ],
   "source": [
    "# LSTM implement\n",
    "from keras.layers import LSTM\n",
    "model = Sequential()\n",
    "model.add(Embedding(max_features, 32))\n",
    "model.add(LSTM(32))\n",
    "model.add(Dense(1, activation='sigmoid'))\n",
    "\n",
    "model.compile(optimizer='rmsprop',\n",
    "              loss = 'binary_crossentropy',\n",
    "              metrics=['acc'])\n",
    "history = model.fit(input_train, y_train,\n",
    "                   epochs=10,\n",
    "                   batch_size=128,\n",
    "                   validation_split=0.2)"
   ]
  },
  {
   "cell_type": "code",
   "execution_count": 11,
   "metadata": {},
   "outputs": [
    {
     "data": {
      "text/plain": [
       "dict_keys(['val_loss', 'val_acc', 'loss', 'acc'])"
      ]
     },
     "execution_count": 11,
     "metadata": {},
     "output_type": "execute_result"
    }
   ],
   "source": [
    "history_dict = history.history\n",
    "history_dict.keys()"
   ]
  },
  {
   "cell_type": "code",
   "execution_count": 12,
   "metadata": {},
   "outputs": [
    {
     "data": {
      "image/png": "[encoded data removed]",
      "text/plain": [
       "<Figure size 432x288 with 1 Axes>"
      ]
     },
     "metadata": {
      "needs_background": "light"
     },
     "output_type": "display_data"
    },
    {
     "data": {
      "image/png": "[encoded data removed]",
      "text/plain": [
       "<Figure size 432x288 with 1 Axes>"
      ]
     },
     "metadata": {
      "needs_background": "light"
     },
     "output_type": "display_data"
    }
   ],
   "source": [
    "# Plot the training and validation loss and accuracy\n",
    "import matplotlib.pyplot as plt\n",
    "%matplotlib inline\n",
    "acc = history.history['acc']\n",
    "val_acc = history.history['val_acc']\n",
    "loss = history.history['loss']\n",
    "val_loss = history.history['val_loss']\n",
    "epochs = range(len(acc))\n",
    "\n",
    "# Plot the training and validation accuracy graph\n",
    "# x-axis is epochs, y-axis is acc / val_acc\n",
    "plt.figure()\n",
    "plt.plot(epochs, acc, 'bo', label='Training acc')\n",
    "plt.plot(epochs, val_acc, 'b', label='Validation acc')\n",
    "plt.title('Training and validation accuracy')\n",
    "plt.legend()\n",
    "\n",
    "# Plot the training and validation loss graph\n",
    "plt.figure()\n",
    "plt.plot(epochs, loss, 'ro', label='Training loss')\n",
    "plt.plot(epochs, val_loss, 'r', label='Validation loss')\n",
    "plt.title('Training and validation loss')\n",
    "plt.legend()\n",
    "\n",
    "plt.show()\n",
    "# much better than SimpleRNN"
   ]
  },
  {
   "cell_type": "code",
   "execution_count": null,
   "metadata": {},
   "outputs": [],
   "source": []
  }
 ],
 "metadata": {
  "kernelspec": {
   "display_name": "Python 3",
   "language": "python",
   "name": "python3"
  },
  "language_info": {
   "codemirror_mode": {
    "name": "ipython",
    "version": 3
   },
   "file_extension": ".py",
   "mimetype": "text/x-python",
   "name": "python",
   "nbconvert_exporter": "python",
   "pygments_lexer": "ipython3",
   "version": "3.7.5"
  }
 },
 "nbformat": 4,
 "nbformat_minor": 2
}
