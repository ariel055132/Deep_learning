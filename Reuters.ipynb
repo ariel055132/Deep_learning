{
 "cells": [
  {
   "cell_type": "code",
   "execution_count": 1,
   "metadata": {},
   "outputs": [
    {
     "name": "stderr",
     "output_type": "stream",
     "text": [
      "Using TensorFlow backend.\n"
     ]
    }
   ],
   "source": [
    "from keras.datasets import reuters\n",
    "(train_data, train_labels),(test_data, test_labels) = reuters.load_data(num_words=10000)"
   ]
  },
  {
   "cell_type": "code",
   "execution_count": 2,
   "metadata": {},
   "outputs": [
    {
     "name": "stdout",
     "output_type": "stream",
     "text": [
      "8982\n",
      "2246\n",
      "[1, 2, 2, 8, 43, 10, 447, 5, 25, 207, 270, 5, 3095, 111, 16, 369, 186, 90, 67, 7, 89, 5, 19, 102, 6, 19, 124, 15, 90, 67, 84, 22, 482, 26, 7, 48, 4, 49, 8, 864, 39, 209, 154, 6, 151, 6, 83, 11, 15, 22, 155, 11, 15, 7, 48, 9, 4579, 1005, 504, 6, 258, 6, 272, 11, 15, 22, 134, 44, 11, 15, 16, 8, 197, 1245, 90, 67, 52, 29, 209, 30, 32, 132, 6, 109, 15, 17, 12]\n",
      "3\n"
     ]
    }
   ],
   "source": [
    "print(len(train_data)) # no of training data\n",
    "print(len(test_data))  # no of testing data\n",
    "print(train_data[0])   # content of the first training data\n",
    "print(train_labels[0]) # labels: 0-45"
   ]
  },
  {
   "cell_type": "code",
   "execution_count": 3,
   "metadata": {},
   "outputs": [
    {
     "name": "stdout",
     "output_type": "stream",
     "text": [
      "? ? ? said as a result of its december acquisition of space co it expects earnings per share in 1987 of 1 15 to 1 30 dlrs per share up from 70 cts in 1986 the company said pretax net should rise to nine to 10 mln dlrs from six mln dlrs in 1986 and rental operation revenues to 19 to 22 mln dlrs from 12 5 mln dlrs it said cash flow per share this year should be 2 50 to three dlrs reuter 3\n"
     ]
    }
   ],
   "source": [
    "# decoded the no to content\n",
    "word_index = reuters.get_word_index()\n",
    "reverse_word_index = dict([(value, key) for (key, value) in word_index.items()])\n",
    "decoded_news = ' '.join([reverse_word_index.get(i-3, '?') for i in train_data[0]])\n",
    "print(decoded_news)"
   ]
  },
  {
   "cell_type": "code",
   "execution_count": 4,
   "metadata": {},
   "outputs": [
    {
     "name": "stdout",
     "output_type": "stream",
     "text": [
      "[[0. 1. 1. ... 0. 0. 0.]\n",
      " [0. 1. 1. ... 0. 0. 0.]\n",
      " [0. 1. 1. ... 0. 0. 0.]\n",
      " ...\n",
      " [0. 1. 1. ... 0. 0. 0.]\n",
      " [0. 1. 1. ... 0. 0. 0.]\n",
      " [0. 1. 1. ... 0. 0. 0.]]\n",
      "--------------------------------------------\n",
      "[[0. 1. 1. ... 0. 0. 0.]\n",
      " [0. 1. 1. ... 0. 0. 0.]\n",
      " [0. 1. 1. ... 0. 0. 0.]\n",
      " ...\n",
      " [0. 1. 0. ... 0. 0. 0.]\n",
      " [0. 1. 1. ... 0. 0. 0.]\n",
      " [0. 1. 1. ... 0. 0. 0.]]\n"
     ]
    }
   ],
   "source": [
    "# One-hot encoding by using a self-made functino\n",
    "import numpy as np\n",
    "\n",
    "# Vectorize the training data and testing data \n",
    "def vectorize_sequences(sequences, dimension=10000):\n",
    "    results = np.zeros((len(sequences), dimension))\n",
    "    for i, sequences in enumerate(sequences):\n",
    "        results[i, sequences] = 1\n",
    "    return results\n",
    "\n",
    "x_train = vectorize_sequences(train_data) # Vectorized training data\n",
    "x_test = vectorize_sequences(test_data)   # Vectorized test data\n",
    "print(x_train)\n",
    "print(\"--------------------------------------------\")\n",
    "print(x_test)"
   ]
  },
  {
   "cell_type": "code",
   "execution_count": 5,
   "metadata": {},
   "outputs": [
    {
     "name": "stdout",
     "output_type": "stream",
     "text": [
      "[[0. 0. 0. ... 0. 0. 0.]\n",
      " [0. 0. 0. ... 0. 0. 0.]\n",
      " [0. 0. 0. ... 0. 0. 0.]\n",
      " ...\n",
      " [0. 0. 0. ... 0. 0. 0.]\n",
      " [0. 0. 0. ... 0. 0. 0.]\n",
      " [0. 0. 0. ... 0. 0. 0.]]\n",
      "--------------------------------------------\n",
      "[[0. 0. 0. ... 0. 0. 0.]\n",
      " [0. 0. 0. ... 0. 0. 0.]\n",
      " [0. 1. 0. ... 0. 0. 0.]\n",
      " ...\n",
      " [0. 0. 0. ... 0. 0. 0.]\n",
      " [0. 0. 0. ... 0. 0. 0.]\n",
      " [0. 0. 0. ... 0. 0. 0.]]\n"
     ]
    }
   ],
   "source": [
    "# Vectorize the labels in another function\n",
    "# dimension is 46 as there are 45 labels\n",
    "def vectorize_labels(labels, dimension=46):\n",
    "    results = np.zeros((len(labels), dimension))\n",
    "    for i, label in enumerate(labels):\n",
    "        results[i, label] = 1\n",
    "    return results\n",
    "\n",
    "one_hot_train_labels = vectorize_labels(train_labels)\n",
    "one_hot_test_labels = vectorize_labels(test_labels)\n",
    "print(one_hot_train_labels)\n",
    "print(\"--------------------------------------------\")\n",
    "print(one_hot_test_labels)"
   ]
  },
  {
   "cell_type": "code",
   "execution_count": 6,
   "metadata": {},
   "outputs": [
    {
     "name": "stdout",
     "output_type": "stream",
     "text": [
      "[[0. 0. 0. ... 0. 0. 0.]\n",
      " [0. 0. 0. ... 0. 0. 0.]\n",
      " [0. 0. 0. ... 0. 0. 0.]\n",
      " ...\n",
      " [0. 0. 0. ... 0. 0. 0.]\n",
      " [0. 0. 0. ... 0. 0. 0.]\n",
      " [0. 0. 0. ... 0. 0. 0.]]\n"
     ]
    }
   ],
   "source": [
    "# Another method to do vectorize the labels \n",
    "# Using to_categorical() \n",
    "from keras.utils.np_utils import to_categorical\n",
    "\n",
    "one_hot_train_labels = to_categorical(train_labels)\n",
    "one_hot_test_labels = to_categorical(test_labels)\n",
    "print(one_hot_train_labels)"
   ]
  },
  {
   "cell_type": "code",
   "execution_count": 7,
   "metadata": {},
   "outputs": [],
   "source": [
    "# Define the model\n",
    "from keras import models\n",
    "from keras import layers\n",
    "\n",
    "model = models.Sequential()\n",
    "model.add(layers.Dense(64, activation='relu', input_shape=(10000,))) # input layer\n",
    "model.add(layers.Dense(64, activation='relu'))\n",
    "model.add(layers.Dense(46, activation='softmax')) # output layer"
   ]
  },
  {
   "cell_type": "code",
   "execution_count": 8,
   "metadata": {},
   "outputs": [],
   "source": [
    "# Compile the model\n",
    "model.compile(optimizer='rmsprop',\n",
    "              loss='categorical_crossentropy',\n",
    "              metrics=['accuracy'])"
   ]
  },
  {
   "cell_type": "code",
   "execution_count": 9,
   "metadata": {},
   "outputs": [],
   "source": [
    "# Validation set\n",
    "x_val = x_train[:1000] # Validation dataset\n",
    "partial_x_train = x_train[1000:] # Training dataset\n",
    "y_val = one_hot_train_labels[:1000] # Validation label set\n",
    "partial_y_train = one_hot_train_labels[1000:] # Training label set"
   ]
  },
  {
   "cell_type": "code",
   "execution_count": 10,
   "metadata": {},
   "outputs": [
    {
     "name": "stdout",
     "output_type": "stream",
     "text": [
      "Train on 7982 samples, validate on 1000 samples\n",
      "Epoch 1/20\n",
      "7982/7982 [==============================] - 2s 213us/step - loss: 2.6029 - accuracy: 0.5323 - val_loss: 1.7014 - val_accuracy: 0.6540\n",
      "Epoch 2/20\n",
      "7982/7982 [==============================] - 1s 151us/step - loss: 1.3848 - accuracy: 0.7078 - val_loss: 1.2979 - val_accuracy: 0.7200\n",
      "Epoch 3/20\n",
      "7982/7982 [==============================] - 1s 145us/step - loss: 1.0385 - accuracy: 0.7799 - val_loss: 1.1278 - val_accuracy: 0.7460\n",
      "Epoch 4/20\n",
      "7982/7982 [==============================] - 1s 140us/step - loss: 0.8187 - accuracy: 0.8235 - val_loss: 1.0340 - val_accuracy: 0.7710\n",
      "Epoch 5/20\n",
      "7982/7982 [==============================] - 1s 152us/step - loss: 0.6607 - accuracy: 0.8592 - val_loss: 0.9659 - val_accuracy: 0.8030\n",
      "Epoch 6/20\n",
      "7982/7982 [==============================] - 1s 146us/step - loss: 0.5350 - accuracy: 0.8884 - val_loss: 0.9207 - val_accuracy: 0.8060\n",
      "Epoch 7/20\n",
      "7982/7982 [==============================] - 1s 142us/step - loss: 0.4303 - accuracy: 0.9128 - val_loss: 0.8949 - val_accuracy: 0.8190\n",
      "Epoch 8/20\n",
      "7982/7982 [==============================] - 1s 141us/step - loss: 0.3528 - accuracy: 0.9278 - val_loss: 0.8928 - val_accuracy: 0.8200\n",
      "Epoch 9/20\n",
      "7982/7982 [==============================] - 1s 124us/step - loss: 0.2971 - accuracy: 0.9354 - val_loss: 0.8765 - val_accuracy: 0.8230\n",
      "Epoch 10/20\n",
      "7982/7982 [==============================] - 1s 140us/step - loss: 0.2476 - accuracy: 0.9424 - val_loss: 0.9125 - val_accuracy: 0.8050\n",
      "Epoch 11/20\n",
      "7982/7982 [==============================] - 1s 123us/step - loss: 0.2099 - accuracy: 0.9466 - val_loss: 0.9053 - val_accuracy: 0.8170\n",
      "Epoch 12/20\n",
      "7982/7982 [==============================] - 1s 142us/step - loss: 0.1866 - accuracy: 0.9503 - val_loss: 0.9329 - val_accuracy: 0.8180\n",
      "Epoch 13/20\n",
      "7982/7982 [==============================] - 1s 152us/step - loss: 0.1662 - accuracy: 0.9536 - val_loss: 1.0142 - val_accuracy: 0.8110\n",
      "Epoch 14/20\n",
      "7982/7982 [==============================] - 1s 150us/step - loss: 0.1513 - accuracy: 0.9520 - val_loss: 0.9821 - val_accuracy: 0.8150\n",
      "Epoch 15/20\n",
      "7982/7982 [==============================] - 1s 121us/step - loss: 0.1398 - accuracy: 0.9546 - val_loss: 0.9888 - val_accuracy: 0.8070\n",
      "Epoch 16/20\n",
      "7982/7982 [==============================] - 1s 148us/step - loss: 0.1336 - accuracy: 0.9559 - val_loss: 1.0265 - val_accuracy: 0.8070\n",
      "Epoch 17/20\n",
      "7982/7982 [==============================] - 1s 126us/step - loss: 0.1274 - accuracy: 0.9553 - val_loss: 0.9983 - val_accuracy: 0.8130\n",
      "Epoch 18/20\n",
      "7982/7982 [==============================] - 1s 129us/step - loss: 0.1183 - accuracy: 0.9553 - val_loss: 1.0404 - val_accuracy: 0.8100\n",
      "Epoch 19/20\n",
      "7982/7982 [==============================] - 1s 119us/step - loss: 0.1138 - accuracy: 0.9569 - val_loss: 1.0967 - val_accuracy: 0.7960\n",
      "Epoch 20/20\n",
      "7982/7982 [==============================] - 1s 177us/step - loss: 0.1083 - accuracy: 0.9559 - val_loss: 1.1216 - val_accuracy: 0.8020\n"
     ]
    }
   ],
   "source": [
    "# Start training the neural network\n",
    "history = model.fit(partial_x_train,\n",
    "                    partial_y_train,\n",
    "                    epochs=20,\n",
    "                    batch_size=512,\n",
    "                    validation_data=(x_val,y_val))"
   ]
  },
  {
   "cell_type": "code",
   "execution_count": 11,
   "metadata": {},
   "outputs": [
    {
     "data": {
      "text/plain": [
       "dict_keys(['val_loss', 'val_accuracy', 'loss', 'accuracy'])"
      ]
     },
     "execution_count": 11,
     "metadata": {},
     "output_type": "execute_result"
    }
   ],
   "source": [
    "history_dict = history.history\n",
    "history_dict.keys()"
   ]
  },
  {
   "cell_type": "code",
   "execution_count": 12,
   "metadata": {},
   "outputs": [
    {
     "data": {
      "image/png": "[encoded data removed]",
      "text/plain": [
       "<Figure size 432x288 with 1 Axes>"
      ]
     },
     "metadata": {
      "needs_background": "light"
     },
     "output_type": "display_data"
    }
   ],
   "source": [
    "# Plot the training and validation loss\n",
    "import matplotlib.pyplot as plt\n",
    "train_loss = history_dict['loss']\n",
    "val_loss = history_dict['val_loss']\n",
    "epochs = range(1, len(train_loss)+1)\n",
    "plt.plot(epochs, train_loss, 'bo', label='Training loss')\n",
    "plt.plot(epochs, val_loss, 'b', label='Validation loss')\n",
    "plt.title('Training and validation loss')\n",
    "plt.xlabel('Epochs')\n",
    "plt.ylabel('Loss')\n",
    "plt.legend()\n",
    "plt.show()"
   ]
  },
  {
   "cell_type": "code",
   "execution_count": 13,
   "metadata": {},
   "outputs": [
    {
     "data": {
      "image/png": "[encoded data removed]",
      "text/plain": [
       "<Figure size 432x288 with 1 Axes>"
      ]
     },
     "metadata": {
      "needs_background": "light"
     },
     "output_type": "display_data"
    }
   ],
   "source": [
    "# Plot the training and validation accuracy\n",
    "train_acc = history_dict['accuracy']\n",
    "val_acc = history_dict['val_accuracy']\n",
    "epochs = range(1, len(train_acc)+1)\n",
    "plt.plot(epochs, train_acc, 'bo', label='Training accuracy')\n",
    "plt.plot(epochs, val_acc, 'b', label='Validation accuracy')\n",
    "plt.title(\"Training and validation accuracy\")\n",
    "plt.xlabel('Epochs')\n",
    "plt.ylabel('Accuracy')\n",
    "plt.legend()\n",
    "plt.show()"
   ]
  },
  {
   "cell_type": "code",
   "execution_count": 14,
   "metadata": {},
   "outputs": [
    {
     "name": "stdout",
     "output_type": "stream",
     "text": [
      "Train on 7982 samples, validate on 1000 samples\n",
      "Epoch 1/8\n",
      "7982/7982 [==============================] - 2s 225us/step - loss: 2.6433 - accuracy: 0.5312 - val_loss: 1.7423 - val_accuracy: 0.6450\n",
      "Epoch 2/8\n",
      "7982/7982 [==============================] - 1s 140us/step - loss: 1.4213 - accuracy: 0.6989 - val_loss: 1.3267 - val_accuracy: 0.7150\n",
      "Epoch 3/8\n",
      "7982/7982 [==============================] - 1s 127us/step - loss: 1.0627 - accuracy: 0.7704 - val_loss: 1.1528 - val_accuracy: 0.7630\n",
      "Epoch 4/8\n",
      "7982/7982 [==============================] - 1s 131us/step - loss: 0.8473 - accuracy: 0.8201 - val_loss: 1.0499 - val_accuracy: 0.7890\n",
      "Epoch 5/8\n",
      "7982/7982 [==============================] - 1s 141us/step - loss: 0.6714 - accuracy: 0.8604 - val_loss: 0.9858 - val_accuracy: 0.7950\n",
      "Epoch 6/8\n",
      "7982/7982 [==============================] - 1s 117us/step - loss: 0.5393 - accuracy: 0.8875 - val_loss: 0.9709 - val_accuracy: 0.8000\n",
      "Epoch 7/8\n",
      "7982/7982 [==============================] - 1s 157us/step - loss: 0.4327 - accuracy: 0.9103 - val_loss: 0.9106 - val_accuracy: 0.8130\n",
      "Epoch 8/8\n",
      "7982/7982 [==============================] - 1s 166us/step - loss: 0.3513 - accuracy: 0.9283 - val_loss: 0.9127 - val_accuracy: 0.8270\n",
      "2246/2246 [==============================] - 0s 222us/step\n",
      "[0.962155826369886, 0.7911843061447144]\n"
     ]
    }
   ],
   "source": [
    "# The network starts overfitting after epoch 8 (From the fig. Training and validation accuracy)\n",
    "# Retrain the model for 8 epoch\n",
    "model = models.Sequential()\n",
    "model.add(layers.Dense(64, activation='relu', input_shape=(10000, )))\n",
    "model.add(layers.Dense(64, activation='relu'))\n",
    "model.add(layers.Dense(46, activation='softmax'))\n",
    "\n",
    "model.compile(optimizer='rmsprop',\n",
    "              loss='categorical_crossentropy',\n",
    "              metrics=['accuracy'])\n",
    "\n",
    "model.fit(partial_x_train,\n",
    "          partial_y_train,\n",
    "          epochs=8,\n",
    "          batch_size=512,\n",
    "          validation_data=(x_val, y_val))\n",
    "\n",
    "results = model.evaluate(x_test, one_hot_test_labels)\n",
    "print(results)\n",
    "# accuracy about 80%"
   ]
  },
  {
   "cell_type": "code",
   "execution_count": 15,
   "metadata": {},
   "outputs": [
    {
     "name": "stderr",
     "output_type": "stream",
     "text": [
      "/home/cindy/anaconda3/envs/myenv/lib/python3.7/site-packages/ipykernel_launcher.py:5: DeprecationWarning: elementwise comparison failed; this will raise an error in the future.\n",
      "  \"\"\"\n"
     ]
    },
    {
     "data": {
      "text/plain": [
       "0.0"
      ]
     },
     "execution_count": 15,
     "metadata": {},
     "output_type": "execute_result"
    }
   ],
   "source": [
    "# Guess randomly\n",
    "import copy # copy all the labels and data\n",
    "test_labels_copy = copy.copy(y_val)\n",
    "np.random.shuffle(test_labels_copy)\n",
    "hits_array = np.array(test_labels) == np.array(test_labels_copy)\n",
    "float(np.sum(hits_array)/len(test_labels))"
   ]
  },
  {
   "cell_type": "code",
   "execution_count": 16,
   "metadata": {},
   "outputs": [
    {
     "name": "stdout",
     "output_type": "stream",
     "text": [
      "(46,)\n",
      "1.0000001\n",
      "3\n"
     ]
    }
   ],
   "source": [
    "# Predict the new data\n",
    "predictions = model.predict(x_test)\n",
    "print(predictions[0].shape)      # Each entry in predictions is a vector of length 46\n",
    "print(np.sum(predictions[0]))    # The coefficents in the vector\n",
    "print(np.argmax(predictions[0])) # Predicted class = 3"
   ]
  },
  {
   "cell_type": "code",
   "execution_count": 17,
   "metadata": {},
   "outputs": [
    {
     "name": "stdout",
     "output_type": "stream",
     "text": [
      "Train on 7982 samples, validate on 1000 samples\n",
      "Epoch 1/20\n",
      "7982/7982 [==============================] - 2s 207us/step - loss: 3.6264 - accuracy: 0.3285 - val_loss: 3.4016 - val_accuracy: 0.3770\n",
      "Epoch 2/20\n",
      "7982/7982 [==============================] - 1s 131us/step - loss: 3.2217 - accuracy: 0.4227 - val_loss: 3.0936 - val_accuracy: 0.4060\n",
      "Epoch 3/20\n",
      "7982/7982 [==============================] - 1s 140us/step - loss: 2.8908 - accuracy: 0.4178 - val_loss: 2.8250 - val_accuracy: 0.4140\n",
      "Epoch 4/20\n",
      "7982/7982 [==============================] - 1s 141us/step - loss: 2.6122 - accuracy: 0.4633 - val_loss: 2.6247 - val_accuracy: 0.4900\n",
      "Epoch 5/20\n",
      "7982/7982 [==============================] - 1s 132us/step - loss: 2.4107 - accuracy: 0.4816 - val_loss: 2.4899 - val_accuracy: 0.4890\n",
      "Epoch 6/20\n",
      "7982/7982 [==============================] - 1s 137us/step - loss: 2.2768 - accuracy: 0.4833 - val_loss: 2.4304 - val_accuracy: 0.4230\n",
      "Epoch 7/20\n",
      "7982/7982 [==============================] - 1s 136us/step - loss: 2.1823 - accuracy: 0.4589 - val_loss: 2.3654 - val_accuracy: 0.4160\n",
      "Epoch 8/20\n",
      "7982/7982 [==============================] - 1s 121us/step - loss: 2.1085 - accuracy: 0.4436 - val_loss: 2.3189 - val_accuracy: 0.4120\n",
      "Epoch 9/20\n",
      "7982/7982 [==============================] - 1s 131us/step - loss: 2.0440 - accuracy: 0.4360 - val_loss: 2.2935 - val_accuracy: 0.4060\n",
      "Epoch 10/20\n",
      "7982/7982 [==============================] - 1s 141us/step - loss: 1.9834 - accuracy: 0.4347 - val_loss: 2.2328 - val_accuracy: 0.4090\n",
      "Epoch 11/20\n",
      "7982/7982 [==============================] - 1s 134us/step - loss: 1.9178 - accuracy: 0.4334 - val_loss: 2.2086 - val_accuracy: 0.4080\n",
      "Epoch 12/20\n",
      "7982/7982 [==============================] - 1s 118us/step - loss: 1.8548 - accuracy: 0.4415 - val_loss: 2.1750 - val_accuracy: 0.4130\n",
      "Epoch 13/20\n",
      "7982/7982 [==============================] - 1s 124us/step - loss: 1.7821 - accuracy: 0.4524 - val_loss: 2.1391 - val_accuracy: 0.4250\n",
      "Epoch 14/20\n",
      "7982/7982 [==============================] - 1s 124us/step - loss: 1.7002 - accuracy: 0.4665 - val_loss: 2.0549 - val_accuracy: 0.4290\n",
      "Epoch 15/20\n",
      "7982/7982 [==============================] - 1s 136us/step - loss: 1.5922 - accuracy: 0.4801 - val_loss: 1.9483 - val_accuracy: 0.4370\n",
      "Epoch 16/20\n",
      "7982/7982 [==============================] - 1s 121us/step - loss: 1.4536 - accuracy: 0.5743 - val_loss: 1.8347 - val_accuracy: 0.5640\n",
      "Epoch 17/20\n",
      "7982/7982 [==============================] - 1s 132us/step - loss: 1.3204 - accuracy: 0.6914 - val_loss: 1.7289 - val_accuracy: 0.6100\n",
      "Epoch 18/20\n",
      "7982/7982 [==============================] - 1s 131us/step - loss: 1.2333 - accuracy: 0.6982 - val_loss: 1.6771 - val_accuracy: 0.6180\n",
      "Epoch 19/20\n",
      "7982/7982 [==============================] - 1s 138us/step - loss: 1.1800 - accuracy: 0.7021 - val_loss: 1.6840 - val_accuracy: 0.6190\n",
      "Epoch 20/20\n",
      "7982/7982 [==============================] - 1s 129us/step - loss: 1.1377 - accuracy: 0.7085 - val_loss: 1.7029 - val_accuracy: 0.6100\n",
      "2246/2246 [==============================] - 0s 187us/step\n",
      "[1.7413271800386831, 0.6215494275093079]\n"
     ]
    }
   ],
   "source": [
    "# The importance of having sufficiently large intermedidate layers\n",
    "# The following example: one of the intermediate layers have 4 units\n",
    "model = models.Sequential()\n",
    "model.add(layers.Dense(64, activation='relu', input_shape=(10000,)))\n",
    "model.add(layers.Dense(4, activation='relu'))\n",
    "model.add(layers.Dense(46, activation='softmax'))\n",
    "\n",
    "model.compile(optimizer='rmsprop',\n",
    "              loss='categorical_crossentropy',\n",
    "              metrics=['accuracy'])\n",
    "\n",
    "model.fit(partial_x_train,\n",
    "          partial_y_train,\n",
    "          epochs=20,\n",
    "          batch_size=512,\n",
    "          validation_data=(x_val,y_val))\n",
    "# accuracy about 80%\n",
    "results = model.evaluate(x_test, one_hot_test_labels)\n",
    "print(results)"
   ]
  },
  {
   "cell_type": "code",
   "execution_count": 18,
   "metadata": {},
   "outputs": [
    {
     "name": "stdout",
     "output_type": "stream",
     "text": [
      "Train on 7982 samples, validate on 1000 samples\n",
      "Epoch 1/9\n",
      "7982/7982 [==============================] - 2s 252us/step - loss: 2.2142 - accuracy: 0.5569 - val_loss: 1.4180 - val_accuracy: 0.6840\n",
      "Epoch 2/9\n",
      "7982/7982 [==============================] - 2s 197us/step - loss: 1.1340 - accuracy: 0.7463 - val_loss: 1.0970 - val_accuracy: 0.7650\n",
      "Epoch 3/9\n",
      "7982/7982 [==============================] - 2s 191us/step - loss: 0.8017 - accuracy: 0.8235 - val_loss: 0.9660 - val_accuracy: 0.7960\n",
      "Epoch 4/9\n",
      "7982/7982 [==============================] - 2s 197us/step - loss: 0.5741 - accuracy: 0.8821 - val_loss: 0.8959 - val_accuracy: 0.8090\n",
      "Epoch 5/9\n",
      "7982/7982 [==============================] - 2s 196us/step - loss: 0.4301 - accuracy: 0.9100 - val_loss: 0.8611 - val_accuracy: 0.8110\n",
      "Epoch 6/9\n",
      "7982/7982 [==============================] - 2s 201us/step - loss: 0.3238 - accuracy: 0.9322 - val_loss: 0.8404 - val_accuracy: 0.8200\n",
      "Epoch 7/9\n",
      "7982/7982 [==============================] - 2s 197us/step - loss: 0.2545 - accuracy: 0.9410 - val_loss: 0.9336 - val_accuracy: 0.7990\n",
      "Epoch 8/9\n",
      "7982/7982 [==============================] - 2s 204us/step - loss: 0.2111 - accuracy: 0.9484 - val_loss: 0.8635 - val_accuracy: 0.8220\n",
      "Epoch 9/9\n",
      "7982/7982 [==============================] - 2s 303us/step - loss: 0.1830 - accuracy: 0.9506 - val_loss: 0.8650 - val_accuracy: 0.8280\n",
      "2246/2246 [==============================] - 1s 520us/step\n",
      "[0.9844680439650959, 0.7943009734153748]\n"
     ]
    }
   ],
   "source": [
    "# Further experiments\n",
    "# Use 128 units in a layer, instead of 64\n",
    "model = models.Sequential()\n",
    "model.add(layers.Dense(128, activation='relu', input_shape=(10000, )))\n",
    "model.add(layers.Dense(128, activation='relu'))\n",
    "model.add(layers.Dense(46, activation='softmax'))\n",
    "\n",
    "model.compile(optimizer='rmsprop',\n",
    "              loss='categorical_crossentropy',\n",
    "              metrics=['accuracy'])\n",
    "\n",
    "history = model.fit(partial_x_train,\n",
    "                    partial_y_train,\n",
    "                    epochs=9,\n",
    "                    batch_size=512,\n",
    "                    validation_data=(x_val,y_val))\n",
    "# accuracy is higher with layer has 64 units (80% --> 95%)\n",
    "results = model.evaluate(x_test, one_hot_test_labels)\n",
    "print(results)"
   ]
  },
  {
   "cell_type": "code",
   "execution_count": 19,
   "metadata": {},
   "outputs": [
    {
     "name": "stdout",
     "output_type": "stream",
     "text": [
      "Train on 7982 samples, validate on 1000 samples\n",
      "Epoch 1/9\n",
      "7982/7982 [==============================] - 4s 521us/step - loss: 1.9828 - accuracy: 0.5722 - val_loss: 1.2949 - val_accuracy: 0.7080\n",
      "Epoch 2/9\n",
      "7982/7982 [==============================] - 3s 331us/step - loss: 0.9678 - accuracy: 0.7825 - val_loss: 0.9975 - val_accuracy: 0.7880\n",
      "Epoch 3/9\n",
      "7982/7982 [==============================] - 3s 324us/step - loss: 0.6148 - accuracy: 0.8659 - val_loss: 0.8778 - val_accuracy: 0.8130\n",
      "Epoch 4/9\n",
      "7982/7982 [==============================] - 3s 335us/step - loss: 0.4205 - accuracy: 0.9094 - val_loss: 0.8585 - val_accuracy: 0.8150\n",
      "Epoch 5/9\n",
      "7982/7982 [==============================] - 3s 344us/step - loss: 0.2799 - accuracy: 0.9367 - val_loss: 0.9425 - val_accuracy: 0.7980\n",
      "Epoch 6/9\n",
      "7982/7982 [==============================] - 3s 342us/step - loss: 0.2224 - accuracy: 0.9442 - val_loss: 0.9165 - val_accuracy: 0.7970\n",
      "Epoch 7/9\n",
      "7982/7982 [==============================] - 3s 334us/step - loss: 0.1851 - accuracy: 0.9501 - val_loss: 0.8995 - val_accuracy: 0.8130\n",
      "Epoch 8/9\n",
      "7982/7982 [==============================] - 3s 342us/step - loss: 0.1560 - accuracy: 0.9550 - val_loss: 0.9739 - val_accuracy: 0.8010\n",
      "Epoch 9/9\n",
      "7982/7982 [==============================] - 3s 359us/step - loss: 0.1487 - accuracy: 0.9540 - val_loss: 0.9438 - val_accuracy: 0.8040\n",
      "2246/2246 [==============================] - 1s 289us/step\n",
      "[1.0561196568388018, 0.796972393989563]\n"
     ]
    }
   ],
   "source": [
    "# Further experiments\n",
    "# Use 256 units in one layer, instead of 64 and 127 units\n",
    "model = models.Sequential()\n",
    "model.add(layers.Dense(256, activation='relu', input_shape=(10000, )))\n",
    "model.add(layers.Dense(256, activation='relu'))\n",
    "model.add(layers.Dense(46, activation='softmax'))\n",
    "\n",
    "model.compile(optimizer='rmsprop',\n",
    "              loss='categorical_crossentropy',\n",
    "              metrics=['accuracy'])\n",
    "\n",
    "model.fit(partial_x_train,\n",
    "          partial_y_train,\n",
    "          epochs=9,\n",
    "          batch_size=512,\n",
    "          validation_data=(x_val,y_val))\n",
    "# accuracy does not rise very much that 128 units in one layer\n",
    "# We should use appropriate number of units in one layer in order to obtain the best result\n",
    "results = model.evaluate(x_test, one_hot_test_labels)\n",
    "print(results)"
   ]
  },
  {
   "cell_type": "code",
   "execution_count": 20,
   "metadata": {},
   "outputs": [
    {
     "name": "stdout",
     "output_type": "stream",
     "text": [
      "Train on 7982 samples, validate on 1000 samples\n",
      "Epoch 1/9\n",
      "7982/7982 [==============================] - 1s 170us/step - loss: 3.1057 - accuracy: 0.3854 - val_loss: 2.4113 - val_accuracy: 0.5700\n",
      "Epoch 2/9\n",
      "7982/7982 [==============================] - ETA: 0s - loss: 2.0077 - accuracy: 0.64 - 1s 114us/step - loss: 2.0023 - accuracy: 0.6422 - val_loss: 1.7255 - val_accuracy: 0.6500\n",
      "Epoch 3/9\n",
      "7982/7982 [==============================] - 1s 103us/step - loss: 1.4568 - accuracy: 0.7022 - val_loss: 1.4072 - val_accuracy: 0.6880\n",
      "Epoch 4/9\n",
      "7982/7982 [==============================] - 1s 151us/step - loss: 1.1619 - accuracy: 0.7508 - val_loss: 1.2376 - val_accuracy: 0.7240\n",
      "Epoch 5/9\n",
      "7982/7982 [==============================] - 1s 163us/step - loss: 0.9727 - accuracy: 0.7959 - val_loss: 1.1410 - val_accuracy: 0.7590\n",
      "Epoch 6/9\n",
      "7982/7982 [==============================] - 1s 181us/step - loss: 0.8332 - accuracy: 0.8246 - val_loss: 1.0868 - val_accuracy: 0.7720\n",
      "Epoch 7/9\n",
      "7982/7982 [==============================] - 1s 116us/step - loss: 0.7225 - accuracy: 0.8454 - val_loss: 1.0374 - val_accuracy: 0.7850\n",
      "Epoch 8/9\n",
      "7982/7982 [==============================] - 1s 132us/step - loss: 0.6317 - accuracy: 0.8672 - val_loss: 0.9938 - val_accuracy: 0.7950\n",
      "Epoch 9/9\n",
      "7982/7982 [==============================] - 1s 130us/step - loss: 0.5491 - accuracy: 0.8850 - val_loss: 0.9731 - val_accuracy: 0.7960\n",
      "2246/2246 [==============================] - 1s 267us/step\n",
      "[1.039488570560649, 0.7689225077629089]\n"
     ]
    }
   ],
   "source": [
    "# Further experiments\n",
    "# Use 32 units in one layer\n",
    "model = models.Sequential()\n",
    "model.add(layers.Dense(32, activation='relu', input_shape=(10000, )))\n",
    "model.add(layers.Dense(32, activation='relu'))\n",
    "model.add(layers.Dense(46, activation='softmax'))\n",
    "\n",
    "model.compile(optimizer='rmsprop',\n",
    "              loss='categorical_crossentropy',\n",
    "              metrics=['accuracy'])\n",
    "\n",
    "model.fit(partial_x_train,\n",
    "          partial_y_train,\n",
    "          epochs=9,\n",
    "          batch_size=512,\n",
    "          validation_data=(x_val,y_val))\n",
    "# Accuracy is lower than 64 units layer and 128 units layers \n",
    "results = model.evaluate(x_test, one_hot_test_labels)\n",
    "print(results)"
   ]
  },
  {
   "cell_type": "code",
   "execution_count": 21,
   "metadata": {},
   "outputs": [
    {
     "name": "stdout",
     "output_type": "stream",
     "text": [
      "Train on 7982 samples, validate on 1000 samples\n",
      "Epoch 1/9\n",
      "7982/7982 [==============================] - 2s 304us/step - loss: 2.7224 - accuracy: 0.4305 - val_loss: 1.7222 - val_accuracy: 0.6420\n",
      "Epoch 2/9\n",
      "7982/7982 [==============================] - 2s 205us/step - loss: 1.4648 - accuracy: 0.6914 - val_loss: 1.3647 - val_accuracy: 0.7030\n",
      "Epoch 3/9\n",
      "7982/7982 [==============================] - 2s 197us/step - loss: 1.1068 - accuracy: 0.7538 - val_loss: 1.1926 - val_accuracy: 0.7210\n",
      "Epoch 4/9\n",
      "7982/7982 [==============================] - 1s 148us/step - loss: 0.8783 - accuracy: 0.8043 - val_loss: 1.0855 - val_accuracy: 0.7540\n",
      "Epoch 5/9\n",
      "7982/7982 [==============================] - 1s 178us/step - loss: 0.7008 - accuracy: 0.8485 - val_loss: 1.0261 - val_accuracy: 0.7740\n",
      "Epoch 6/9\n",
      "7982/7982 [==============================] - 1s 160us/step - loss: 0.5566 - accuracy: 0.8825 - val_loss: 0.9704 - val_accuracy: 0.7930\n",
      "Epoch 7/9\n",
      "7982/7982 [==============================] - 1s 146us/step - loss: 0.4383 - accuracy: 0.9067 - val_loss: 1.0234 - val_accuracy: 0.7780\n",
      "Epoch 8/9\n",
      "7982/7982 [==============================] - 1s 155us/step - loss: 0.3503 - accuracy: 0.9248 - val_loss: 0.9333 - val_accuracy: 0.8140\n",
      "Epoch 9/9\n",
      "7982/7982 [==============================] - 1s 141us/step - loss: 0.2858 - accuracy: 0.9369 - val_loss: 0.9656 - val_accuracy: 0.8110\n",
      "2246/2246 [==============================] - 0s 187us/step\n",
      "[1.0608170830768235, 0.7796081900596619]\n"
     ]
    }
   ],
   "source": [
    "# Further experiments\n",
    "# Use 3 hidden layer\n",
    "model = models.Sequential()\n",
    "model.add(layers.Dense(64, activation='relu', input_shape=(10000, )))\n",
    "model.add(layers.Dense(64, activation='relu'))\n",
    "model.add(layers.Dense(64, activation='relu'))\n",
    "model.add(layers.Dense(46, activation='softmax'))\n",
    "\n",
    "model.compile(optimizer='rmsprop',\n",
    "              loss='categorical_crossentropy',\n",
    "              metrics=['accuracy'])\n",
    "\n",
    "model.fit(partial_x_train,\n",
    "          partial_y_train,\n",
    "          epochs=9,\n",
    "          batch_size=512,\n",
    "          validation_data=(x_val,y_val))\n",
    "results = model.evaluate(x_test, one_hot_test_labels)\n",
    "print(results)"
   ]
  }
 ],
 "metadata": {
  "kernelspec": {
   "display_name": "Python 3",
   "language": "python",
   "name": "python3"
  },
  "language_info": {
   "codemirror_mode": {
    "name": "ipython",
    "version": 3
   },
   "file_extension": ".py",
   "mimetype": "text/x-python",
   "name": "python",
   "nbconvert_exporter": "python",
   "pygments_lexer": "ipython3",
   "version": "3.7.6"
  }
 },
 "nbformat": 4,
 "nbformat_minor": 2
}
