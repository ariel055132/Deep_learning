{
 "cells": [
  {
   "cell_type": "code",
   "execution_count": 1,
   "metadata": {},
   "outputs": [
    {
     "name": "stderr",
     "output_type": "stream",
     "text": [
      "Using TensorFlow backend.\n"
     ]
    }
   ],
   "source": [
    "# work with the Reuters dataset\n",
    "# Get the 10000 most frequently occuring words found in the data\n",
    "from keras.datasets import reuters\n",
    "(train_data, train_labels), (test_data, test_labels) = reuters.load_data(num_words=10000)"
   ]
  },
  {
   "cell_type": "code",
   "execution_count": 2,
   "metadata": {},
   "outputs": [
    {
     "data": {
      "text/plain": [
       "8982"
      ]
     },
     "execution_count": 2,
     "metadata": {},
     "output_type": "execute_result"
    }
   ],
   "source": [
    "# number of training_data\n",
    "len(train_data)"
   ]
  },
  {
   "cell_type": "code",
   "execution_count": 3,
   "metadata": {},
   "outputs": [
    {
     "data": {
      "text/plain": [
       "2246"
      ]
     },
     "execution_count": 3,
     "metadata": {},
     "output_type": "execute_result"
    }
   ],
   "source": [
    "# number of testing data\n",
    "len(test_data)"
   ]
  },
  {
   "cell_type": "code",
   "execution_count": 4,
   "metadata": {},
   "outputs": [
    {
     "data": {
      "text/plain": [
       "[1,\n",
       " 2,\n",
       " 2,\n",
       " 8,\n",
       " 43,\n",
       " 10,\n",
       " 447,\n",
       " 5,\n",
       " 25,\n",
       " 207,\n",
       " 270,\n",
       " 5,\n",
       " 3095,\n",
       " 111,\n",
       " 16,\n",
       " 369,\n",
       " 186,\n",
       " 90,\n",
       " 67,\n",
       " 7,\n",
       " 89,\n",
       " 5,\n",
       " 19,\n",
       " 102,\n",
       " 6,\n",
       " 19,\n",
       " 124,\n",
       " 15,\n",
       " 90,\n",
       " 67,\n",
       " 84,\n",
       " 22,\n",
       " 482,\n",
       " 26,\n",
       " 7,\n",
       " 48,\n",
       " 4,\n",
       " 49,\n",
       " 8,\n",
       " 864,\n",
       " 39,\n",
       " 209,\n",
       " 154,\n",
       " 6,\n",
       " 151,\n",
       " 6,\n",
       " 83,\n",
       " 11,\n",
       " 15,\n",
       " 22,\n",
       " 155,\n",
       " 11,\n",
       " 15,\n",
       " 7,\n",
       " 48,\n",
       " 9,\n",
       " 4579,\n",
       " 1005,\n",
       " 504,\n",
       " 6,\n",
       " 258,\n",
       " 6,\n",
       " 272,\n",
       " 11,\n",
       " 15,\n",
       " 22,\n",
       " 134,\n",
       " 44,\n",
       " 11,\n",
       " 15,\n",
       " 16,\n",
       " 8,\n",
       " 197,\n",
       " 1245,\n",
       " 90,\n",
       " 67,\n",
       " 52,\n",
       " 29,\n",
       " 209,\n",
       " 30,\n",
       " 32,\n",
       " 132,\n",
       " 6,\n",
       " 109,\n",
       " 15,\n",
       " 17,\n",
       " 12]"
      ]
     },
     "execution_count": 4,
     "metadata": {},
     "output_type": "execute_result"
    }
   ],
   "source": [
    "# Check what is inside the data\n",
    "train_data[0]"
   ]
  },
  {
   "cell_type": "code",
   "execution_count": 5,
   "metadata": {},
   "outputs": [
    {
     "data": {
      "text/plain": [
       "'? ? ? said as a result of its december acquisition of space co it expects earnings per share in 1987 of 1 15 to 1 30 dlrs per share up from 70 cts in 1986 the company said pretax net should rise to nine to 10 mln dlrs from six mln dlrs in 1986 and rental operation revenues to 19 to 22 mln dlrs from 12 5 mln dlrs it said cash flow per share this year should be 2 50 to three dlrs reuter 3'"
      ]
     },
     "execution_count": 5,
     "metadata": {},
     "output_type": "execute_result"
    }
   ],
   "source": [
    "word_index = reuters.get_word_index()\n",
    "reverse_word_index = dict([(value, key)for (key, value) in word_index.items()])\n",
    "decoded_newswire = ' '.join([reverse_word_index.get(i-3, '?') for i in train_data[0]])\n",
    "decoded_newswire"
   ]
  },
  {
   "cell_type": "code",
   "execution_count": 6,
   "metadata": {},
   "outputs": [
    {
     "data": {
      "text/plain": [
       "3"
      ]
     },
     "execution_count": 6,
     "metadata": {},
     "output_type": "execute_result"
    }
   ],
   "source": [
    "# labels associated with an example is an integer between 0 and 45\n",
    "train_labels[10]"
   ]
  },
  {
   "cell_type": "code",
   "execution_count": 7,
   "metadata": {},
   "outputs": [
    {
     "name": "stdout",
     "output_type": "stream",
     "text": [
      "[[0. 1. 1. ... 0. 0. 0.]\n",
      " [0. 1. 1. ... 0. 0. 0.]\n",
      " [0. 1. 1. ... 0. 0. 0.]\n",
      " ...\n",
      " [0. 1. 1. ... 0. 0. 0.]\n",
      " [0. 1. 1. ... 0. 0. 0.]\n",
      " [0. 1. 1. ... 0. 0. 0.]]\n",
      "[[0. 1. 1. ... 0. 0. 0.]\n",
      " [0. 1. 1. ... 0. 0. 0.]\n",
      " [0. 1. 1. ... 0. 0. 0.]\n",
      " ...\n",
      " [0. 1. 0. ... 0. 0. 0.]\n",
      " [0. 1. 1. ... 0. 0. 0.]\n",
      " [0. 1. 1. ... 0. 0. 0.]]\n"
     ]
    }
   ],
   "source": [
    "# Prepare the data\n",
    "# Vectorize the data with 0s and 1s, same as what we do in 3.4\n",
    "# We need to vectorize the labels\n",
    "import numpy as np\n",
    "# vectorize the train_data and test_data\n",
    "def vectorize_sequences(sequences, dimension=10000):\n",
    "    results = np.zeros((len(sequences), dimension))\n",
    "    for i, sequence in enumerate(sequences):\n",
    "        results[i, sequence] = 1\n",
    "    return results\n",
    "x_train = vectorize_sequences(train_data)\n",
    "x_test = vectorize_sequences(test_data)\n",
    "print(x_train)\n",
    "print(x_test)\n",
    "# Vectorize the labels, dimension is 46 because index 45 is out of bounds for axis 1 with size 45\n",
    "def vectorize_labels(labels, dimension=46):\n",
    "    results = np.zeros((len(labels), dimension))\n",
    "    for i, labels in enumerate(labels):\n",
    "        results[i, labels] = 1\n",
    "    return results\n",
    "x_train_labels = vectorize_labels(train_labels)\n",
    "x_test_labels = vectorize_labels(test_labels)"
   ]
  },
  {
   "cell_type": "code",
   "execution_count": 8,
   "metadata": {},
   "outputs": [],
   "source": [
    "# Building the network\n",
    "from keras import models\n",
    "from keras import layers\n",
    "model = models.Sequential()\n",
    "# Use larger layers to separate 46 different class\n",
    "model.add(layers.Dense(64, activation='relu', input_shape=(10000,)))\n",
    "model.add(layers.Dense(64, activation='relu')) \n",
    "# labels, use softmax to find the probability distribution of 46 labels, the scores will sum to 1\n",
    "model.add(layers.Dense(46, activation='softmax')) "
   ]
  },
  {
   "cell_type": "code",
   "execution_count": 9,
   "metadata": {},
   "outputs": [],
   "source": [
    "# The best function to use in this case is categorical_crossentropy. (Stated in the book)\n",
    "# It measures the distance between two probability distributions.\n",
    "model.compile(optimizer='rmsprop',\n",
    "              loss='categorical_crossentropy',\n",
    "              metrics=['accuracy'])"
   ]
  },
  {
   "cell_type": "code",
   "execution_count": 10,
   "metadata": {},
   "outputs": [],
   "source": [
    "# Validating the approach, use the first 1000 data as validation set\n",
    "x_val = x_train[:1000]\n",
    "partial_x_train = x_train[1000:]\n",
    "\n",
    "y_val = x_train_labels[:1000]\n",
    "partial_y_train = x_train_labels[1000:]"
   ]
  },
  {
   "cell_type": "code",
   "execution_count": 11,
   "metadata": {},
   "outputs": [
    {
     "name": "stdout",
     "output_type": "stream",
     "text": [
      "Train on 7982 samples, validate on 1000 samples\n",
      "Epoch 1/20\n",
      "7982/7982 [==============================] - 1s 184us/step - loss: 2.7085 - accuracy: 0.5266 - val_loss: 1.8070 - val_accuracy: 0.6430\n",
      "Epoch 2/20\n",
      "7982/7982 [==============================] - 1s 107us/step - loss: 1.4617 - accuracy: 0.7018 - val_loss: 1.3418 - val_accuracy: 0.7050\n",
      "Epoch 3/20\n",
      "7982/7982 [==============================] - 1s 99us/step - loss: 1.0786 - accuracy: 0.7663 - val_loss: 1.1315 - val_accuracy: 0.7480\n",
      "Epoch 4/20\n",
      "7982/7982 [==============================] - 1s 98us/step - loss: 0.8479 - accuracy: 0.8178 - val_loss: 1.0276 - val_accuracy: 0.7770\n",
      "Epoch 5/20\n",
      "7982/7982 [==============================] - 1s 99us/step - loss: 0.6792 - accuracy: 0.8550 - val_loss: 0.9726 - val_accuracy: 0.7920\n",
      "Epoch 6/20\n",
      "7982/7982 [==============================] - 1s 101us/step - loss: 0.5432 - accuracy: 0.8861 - val_loss: 0.9183 - val_accuracy: 0.8040\n",
      "Epoch 7/20\n",
      "7982/7982 [==============================] - 1s 108us/step - loss: 0.4417 - accuracy: 0.9117 - val_loss: 0.9117 - val_accuracy: 0.7970\n",
      "Epoch 8/20\n",
      "7982/7982 [==============================] - 1s 93us/step - loss: 0.3559 - accuracy: 0.9240 - val_loss: 0.8961 - val_accuracy: 0.7980\n",
      "Epoch 9/20\n",
      "7982/7982 [==============================] - 1s 97us/step - loss: 0.2958 - accuracy: 0.9346 - val_loss: 0.8842 - val_accuracy: 0.8110\n",
      "Epoch 10/20\n",
      "7982/7982 [==============================] - 1s 100us/step - loss: 0.2481 - accuracy: 0.9439 - val_loss: 0.8892 - val_accuracy: 0.8110\n",
      "Epoch 11/20\n",
      "7982/7982 [==============================] - 1s 93us/step - loss: 0.2137 - accuracy: 0.9479 - val_loss: 0.8737 - val_accuracy: 0.8230\n",
      "Epoch 12/20\n",
      "7982/7982 [==============================] - 1s 94us/step - loss: 0.1892 - accuracy: 0.9520 - val_loss: 0.8970 - val_accuracy: 0.8260\n",
      "Epoch 13/20\n",
      "7982/7982 [==============================] - 1s 98us/step - loss: 0.1654 - accuracy: 0.9539 - val_loss: 0.9011 - val_accuracy: 0.8200\n",
      "Epoch 14/20\n",
      "7982/7982 [==============================] - 1s 110us/step - loss: 0.1503 - accuracy: 0.9553 - val_loss: 0.9491 - val_accuracy: 0.7960\n",
      "Epoch 15/20\n",
      "7982/7982 [==============================] - 1s 95us/step - loss: 0.1421 - accuracy: 0.9559 - val_loss: 0.9732 - val_accuracy: 0.8000\n",
      "Epoch 16/20\n",
      "7982/7982 [==============================] - 1s 94us/step - loss: 0.1354 - accuracy: 0.9567 - val_loss: 0.9859 - val_accuracy: 0.8120\n",
      "Epoch 17/20\n",
      "7982/7982 [==============================] - 1s 96us/step - loss: 0.1243 - accuracy: 0.9577 - val_loss: 1.0082 - val_accuracy: 0.8060\n",
      "Epoch 18/20\n",
      "7982/7982 [==============================] - 1s 101us/step - loss: 0.1189 - accuracy: 0.9588 - val_loss: 1.0605 - val_accuracy: 0.7970\n",
      "Epoch 19/20\n",
      "7982/7982 [==============================] - 1s 100us/step - loss: 0.1160 - accuracy: 0.9578 - val_loss: 1.0168 - val_accuracy: 0.8070\n",
      "Epoch 20/20\n",
      "7982/7982 [==============================] - 1s 111us/step - loss: 0.1134 - accuracy: 0.9582 - val_loss: 1.0889 - val_accuracy: 0.7990\n"
     ]
    }
   ],
   "source": [
    "# Train the network\n",
    "history = model.fit(partial_x_train,\n",
    "                    partial_y_train,\n",
    "                    epochs=20,\n",
    "                    batch_size=512,\n",
    "                    validation_data=(x_val, y_val))"
   ]
  },
  {
   "cell_type": "code",
   "execution_count": 12,
   "metadata": {},
   "outputs": [
    {
     "data": {
      "text/plain": [
       "dict_keys(['val_loss', 'val_accuracy', 'loss', 'accuracy'])"
      ]
     },
     "execution_count": 12,
     "metadata": {},
     "output_type": "execute_result"
    }
   ],
   "source": [
    "# Check the key of the object\n",
    "history_dict = history.history\n",
    "history_dict.keys()"
   ]
  },
  {
   "cell_type": "code",
   "execution_count": 14,
   "metadata": {},
   "outputs": [
    {
     "data": {
      "image/png": "[encoded data removed]",
      "text/plain": [
       "<Figure size 432x288 with 1 Axes>"
      ]
     },
     "metadata": {
      "needs_background": "light"
     },
     "output_type": "display_data"
    }
   ],
   "source": [
    "# Plotting the training and validation loss\n",
    "# add this to show the graph\n",
    "%matplotlib inline\n",
    "import matplotlib.pyplot as plt\n",
    "loss = history.history['loss']\n",
    "val_loss = history.history['val_loss']\n",
    "epochs = range(1, len(loss)+1)\n",
    "plt.plot(epochs, loss, 'bo', label='Training loss')\n",
    "plt.plot(epochs, val_loss, 'b', label='Validation loss')\n",
    "plt.title('Training and Validation loss')\n",
    "plt.xlabel('Epochs')\n",
    "plt.ylabel('Loss')\n",
    "plt.legend()\n",
    "plt.show()"
   ]
  },
  {
   "cell_type": "code",
   "execution_count": 15,
   "metadata": {},
   "outputs": [
    {
     "data": {
      "image/png": "[encoded data removed]",
      "text/plain": [
       "<Figure size 432x288 with 1 Axes>"
      ]
     },
     "metadata": {
      "needs_background": "light"
     },
     "output_type": "display_data"
    }
   ],
   "source": [
    "# Plotting the training and validation accuracy\n",
    "acc = history.history['accuracy']\n",
    "val_acc = history.history['val_accuracy']\n",
    "plt.plot(epochs, acc, 'bo', label='Training acc')\n",
    "plt.plot(epochs, val_acc, 'b', label='Validation acc')\n",
    "plt.title('Training and Validation accuracy')\n",
    "plt.xlabel('Epochs')\n",
    "plt.ylabel('Accuracy')\n",
    "plt.legend()\n",
    "plt.show()\n",
    "# Overfitfing after nine epochs. (Show in the graph)"
   ]
  },
  {
   "cell_type": "code",
   "execution_count": 16,
   "metadata": {},
   "outputs": [],
   "source": [
    "# Train a new network for 9 epochs\n",
    "model = models.Sequential()\n",
    "model.add(layers.Dense(64, activation='relu', input_shape=(10000,)))\n",
    "model.add(layers.Dense(64, activation='relu'))\n",
    "model.add(layers.Dense(46, activation='softmax'))"
   ]
  },
  {
   "cell_type": "code",
   "execution_count": 17,
   "metadata": {},
   "outputs": [],
   "source": [
    "model.compile(optimizer='rmsprop',\n",
    "              loss='categorical_crossentropy',\n",
    "              metrics=['accuracy'])"
   ]
  },
  {
   "cell_type": "code",
   "execution_count": 18,
   "metadata": {},
   "outputs": [
    {
     "name": "stdout",
     "output_type": "stream",
     "text": [
      "Train on 7982 samples, validate on 1000 samples\n",
      "Epoch 1/9\n",
      "7982/7982 [==============================] - 1s 121us/step - loss: 2.7119 - accuracy: 0.4766 - val_loss: 1.8050 - val_accuracy: 0.6490\n",
      "Epoch 2/9\n",
      "7982/7982 [==============================] - 1s 119us/step - loss: 1.4535 - accuracy: 0.7066 - val_loss: 1.3266 - val_accuracy: 0.7030\n",
      "Epoch 3/9\n",
      "7982/7982 [==============================] - 1s 136us/step - loss: 1.0550 - accuracy: 0.7815 - val_loss: 1.1211 - val_accuracy: 0.7620\n",
      "Epoch 4/9\n",
      "7982/7982 [==============================] - 1s 124us/step - loss: 0.8157 - accuracy: 0.8329 - val_loss: 1.0294 - val_accuracy: 0.7860\n",
      "Epoch 5/9\n",
      "7982/7982 [==============================] - 1s 112us/step - loss: 0.6510 - accuracy: 0.8685 - val_loss: 0.9742 - val_accuracy: 0.7870\n",
      "Epoch 6/9\n",
      "7982/7982 [==============================] - 1s 123us/step - loss: 0.5195 - accuracy: 0.8955 - val_loss: 0.9127 - val_accuracy: 0.8190\n",
      "Epoch 7/9\n",
      "7982/7982 [==============================] - 1s 126us/step - loss: 0.4184 - accuracy: 0.9162 - val_loss: 0.9342 - val_accuracy: 0.8030\n",
      "Epoch 8/9\n",
      "7982/7982 [==============================] - 1s 124us/step - loss: 0.3522 - accuracy: 0.9262 - val_loss: 0.8917 - val_accuracy: 0.8130\n",
      "Epoch 9/9\n",
      "7982/7982 [==============================] - 1s 130us/step - loss: 0.2900 - accuracy: 0.9362 - val_loss: 0.8872 - val_accuracy: 0.8180\n"
     ]
    },
    {
     "data": {
      "text/plain": [
       "<keras.callbacks.callbacks.History at 0x7fd3c0319310>"
      ]
     },
     "execution_count": 18,
     "metadata": {},
     "output_type": "execute_result"
    }
   ],
   "source": [
    "# epochs reduce to 9\n",
    "model.fit(partial_x_train,\n",
    "          partial_y_train,\n",
    "          epochs=9,\n",
    "          batch_size=512,\n",
    "          validation_data=(x_val, y_val))"
   ]
  },
  {
   "cell_type": "code",
   "execution_count": 19,
   "metadata": {},
   "outputs": [
    {
     "name": "stdout",
     "output_type": "stream",
     "text": [
      "2246/2246 [==============================] - 0s 126us/step\n"
     ]
    },
    {
     "data": {
      "text/plain": [
       "[0.9841167151874872, 0.7853962779045105]"
      ]
     },
     "execution_count": 19,
     "metadata": {},
     "output_type": "execute_result"
    }
   ],
   "source": [
    "results = model.evaluate(x_test, x_test_labels)\n",
    "results\n",
    "# accuracy reaches about 80%"
   ]
  },
  {
   "cell_type": "code",
   "execution_count": 21,
   "metadata": {},
   "outputs": [
    {
     "data": {
      "text/plain": [
       "0.188780053428317"
      ]
     },
     "execution_count": 21,
     "metadata": {},
     "output_type": "execute_result"
    }
   ],
   "source": [
    "import copy\n",
    "test_labels_copy = copy.copy(test_labels)\n",
    "np.random.shuffle(test_labels_copy)\n",
    "hit_array = np.array(test_labels) == np.array(test_labels_copy)\n",
    "float(np.sum(hit_array)) / len(test_labels)"
   ]
  },
  {
   "cell_type": "code",
   "execution_count": 22,
   "metadata": {},
   "outputs": [],
   "source": [
    "# Generating predicitons on new data\n",
    "predictions = model.predict(x_test)"
   ]
  },
  {
   "cell_type": "code",
   "execution_count": 23,
   "metadata": {},
   "outputs": [
    {
     "data": {
      "text/plain": [
       "(46,)"
      ]
     },
     "execution_count": 23,
     "metadata": {},
     "output_type": "execute_result"
    }
   ],
   "source": [
    "predictions[0].shape"
   ]
  },
  {
   "cell_type": "code",
   "execution_count": 24,
   "metadata": {},
   "outputs": [
    {
     "data": {
      "text/plain": [
       "3"
      ]
     },
     "execution_count": 24,
     "metadata": {},
     "output_type": "execute_result"
    }
   ],
   "source": [
    "# return the class with the highest probability\n",
    "np.argmax(predictions[0])"
   ]
  },
  {
   "cell_type": "code",
   "execution_count": null,
   "metadata": {},
   "outputs": [],
   "source": []
  }
 ],
 "metadata": {
  "kernelspec": {
   "display_name": "Python 3",
   "language": "python",
   "name": "python3"
  },
  "language_info": {
   "codemirror_mode": {
    "name": "ipython",
    "version": 3
   },
   "file_extension": ".py",
   "mimetype": "text/x-python",
   "name": "python",
   "nbconvert_exporter": "python",
   "pygments_lexer": "ipython3",
   "version": "3.7.5"
  }
 },
 "nbformat": 4,
 "nbformat_minor": 2
}
