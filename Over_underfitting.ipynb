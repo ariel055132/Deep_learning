{
 "cells": [
  {
   "cell_type": "code",
   "execution_count": 1,
   "metadata": {},
   "outputs": [
    {
     "name": "stderr",
     "output_type": "stream",
     "text": [
      "Using TensorFlow backend.\n"
     ]
    }
   ],
   "source": [
    "# Demo overfitting situation with using imdb dataset\n",
    "# Overfitting: The model is only suitable to the training data, but not validation data\n",
    "# Prepare the data\n",
    "from keras.datasets import imdb\n",
    "(train_data, train_labels), (test_data,test_labels) = imdb.load_data(num_words=10000)"
   ]
  },
  {
   "cell_type": "code",
   "execution_count": 2,
   "metadata": {},
   "outputs": [],
   "source": [
    "# One hot encoding\n",
    "# 1. vectorize function\n",
    "# 2. keras to.categorical()\n",
    "from keras.utils.np_utils import to_categorical\n",
    "import numpy as np\n",
    "def vectorize_sequences(sequences, dimension=10000):\n",
    "    results = np.zeros((len(sequences), dimension))\n",
    "    for i, sequence in enumerate(sequences):\n",
    "        results[i, sequence] = 1\n",
    "    return results\n",
    "\n",
    "# Vectoirzed training data\n",
    "x_train = vectorize_sequences(train_data)\n",
    "# Vectorized test data\n",
    "x_test = vectorize_sequences(test_data)\n",
    "# Vectorized training labels\n",
    "y_train = np.asarray(train_labels).astype('float32')\n",
    "# Vectorized test labels\n",
    "y_test = np.asarray(test_labels).astype('float32')"
   ]
  },
  {
   "cell_type": "code",
   "execution_count": 3,
   "metadata": {},
   "outputs": [],
   "source": [
    "# Prevent overfitting by making a smaller network\n",
    "# Original network\n",
    "from keras import models\n",
    "from keras import layers\n",
    "\n",
    "original_model = models.Sequential()\n",
    "original_model.add(layers.Dense(16, activation='relu', input_shape=(10000, )))\n",
    "original_model.add(layers.Dense(16, activation='relu'))\n",
    "original_model.add(layers.Dense(1, activation='sigmoid'))\n",
    "\n",
    "original_model.compile(optimizer='rmsprop',\n",
    "                       loss='binary_crossentropy',\n",
    "                       metrics=['acc'])"
   ]
  },
  {
   "cell_type": "code",
   "execution_count": 4,
   "metadata": {},
   "outputs": [],
   "source": [
    "# New network (smaller)\n",
    "smaller_model = models.Sequential()\n",
    "smaller_model.add(layers.Dense(4, activation='relu', input_shape=(10000, )))\n",
    "smaller_model.add(layers.Dense(4, activation='relu'))\n",
    "smaller_model.add(layers.Dense(1, activation='sigmoid'))\n",
    "\n",
    "smaller_model.compile(optimizer='rmsprop',\n",
    "                      loss='binary_crossentropy',\n",
    "                      metrics=['acc'])"
   ]
  },
  {
   "cell_type": "code",
   "execution_count": 5,
   "metadata": {},
   "outputs": [
    {
     "name": "stdout",
     "output_type": "stream",
     "text": [
      "Train on 25000 samples, validate on 25000 samples\n",
      "Epoch 1/20\n",
      "25000/25000 [==============================] - 4s 151us/step - loss: 0.4871 - acc: 0.8074 - val_loss: 0.3517 - val_acc: 0.8830\n",
      "Epoch 2/20\n",
      "25000/25000 [==============================] - 3s 111us/step - loss: 0.2726 - acc: 0.9054 - val_loss: 0.2943 - val_acc: 0.8833\n",
      "Epoch 3/20\n",
      "25000/25000 [==============================] - 3s 113us/step - loss: 0.2057 - acc: 0.9268 - val_loss: 0.2787 - val_acc: 0.8894\n",
      "Epoch 4/20\n",
      "25000/25000 [==============================] - 3s 120us/step - loss: 0.1710 - acc: 0.9398 - val_loss: 0.2884 - val_acc: 0.8849\n",
      "Epoch 5/20\n",
      "25000/25000 [==============================] - 4s 148us/step - loss: 0.1474 - acc: 0.9482 - val_loss: 0.3035 - val_acc: 0.8810\n",
      "Epoch 6/20\n",
      "25000/25000 [==============================] - 3s 126us/step - loss: 0.1298 - acc: 0.9552 - val_loss: 0.3239 - val_acc: 0.8779\n",
      "Epoch 7/20\n",
      "25000/25000 [==============================] - 4s 142us/step - loss: 0.1138 - acc: 0.9610 - val_loss: 0.3481 - val_acc: 0.8748\n",
      "Epoch 8/20\n",
      "25000/25000 [==============================] - 4s 163us/step - loss: 0.1040 - acc: 0.9633 - val_loss: 0.3709 - val_acc: 0.8719\n",
      "Epoch 9/20\n",
      "25000/25000 [==============================] - 3s 133us/step - loss: 0.0903 - acc: 0.9699 - val_loss: 0.3978 - val_acc: 0.8679\n",
      "Epoch 10/20\n",
      "25000/25000 [==============================] - 4s 141us/step - loss: 0.0824 - acc: 0.9729 - val_loss: 0.4250 - val_acc: 0.8657\n",
      "Epoch 11/20\n",
      "25000/25000 [==============================] - 4s 156us/step - loss: 0.0706 - acc: 0.9773 - val_loss: 0.4583 - val_acc: 0.8624\n",
      "Epoch 12/20\n",
      "25000/25000 [==============================] - 3s 136us/step - loss: 0.0621 - acc: 0.9804 - val_loss: 0.5046 - val_acc: 0.8579\n",
      "Epoch 13/20\n",
      "25000/25000 [==============================] - 3s 117us/step - loss: 0.0578 - acc: 0.9813 - val_loss: 0.5231 - val_acc: 0.8583\n",
      "Epoch 14/20\n",
      "25000/25000 [==============================] - 4s 172us/step - loss: 0.0475 - acc: 0.9864 - val_loss: 0.5557 - val_acc: 0.8572\n",
      "Epoch 15/20\n",
      "25000/25000 [==============================] - 3s 130us/step - loss: 0.0443 - acc: 0.9860 - val_loss: 0.5830 - val_acc: 0.8561\n",
      "Epoch 16/20\n",
      "25000/25000 [==============================] - 5s 185us/step - loss: 0.0378 - acc: 0.9892 - val_loss: 0.6402 - val_acc: 0.8510\n",
      "Epoch 17/20\n",
      "25000/25000 [==============================] - 4s 161us/step - loss: 0.0325 - acc: 0.9909 - val_loss: 0.6568 - val_acc: 0.8533\n",
      "Epoch 18/20\n",
      "25000/25000 [==============================] - 4s 178us/step - loss: 0.0282 - acc: 0.9926 - val_loss: 0.6917 - val_acc: 0.8524\n",
      "Epoch 19/20\n",
      "25000/25000 [==============================] - 4s 162us/step - loss: 0.0261 - acc: 0.9929 - val_loss: 0.7494 - val_acc: 0.8486\n",
      "Epoch 20/20\n",
      "25000/25000 [==============================] - 4s 169us/step - loss: 0.0193 - acc: 0.9956 - val_loss: 0.8093 - val_acc: 0.8445\n",
      "dict_keys(['val_loss', 'val_acc', 'loss', 'acc'])\n"
     ]
    }
   ],
   "source": [
    "# Train the original network\n",
    "original_hist = original_model.fit(x_train, y_train,\n",
    "                                   epochs=20,\n",
    "                                   batch_size=512,\n",
    "                                   validation_data=(x_test,y_test))\n",
    "original_dict = original_hist.history\n",
    "print(original_dict.keys())"
   ]
  },
  {
   "cell_type": "code",
   "execution_count": 6,
   "metadata": {},
   "outputs": [
    {
     "name": "stdout",
     "output_type": "stream",
     "text": [
      "Train on 25000 samples, validate on 25000 samples\n",
      "Epoch 1/20\n",
      "25000/25000 [==============================] - 5s 216us/step - loss: 0.5989 - acc: 0.6729 - val_loss: 0.5472 - val_acc: 0.7720\n",
      "Epoch 2/20\n",
      "25000/25000 [==============================] - 5s 191us/step - loss: 0.5035 - acc: 0.8286 - val_loss: 0.4996 - val_acc: 0.8141\n",
      "Epoch 3/20\n",
      "25000/25000 [==============================] - 5s 194us/step - loss: 0.4556 - acc: 0.8778 - val_loss: 0.4711 - val_acc: 0.8575\n",
      "Epoch 4/20\n",
      "25000/25000 [==============================] - 5s 197us/step - loss: 0.4218 - acc: 0.9041 - val_loss: 0.4551 - val_acc: 0.8629\n",
      "Epoch 5/20\n",
      "25000/25000 [==============================] - 5s 197us/step - loss: 0.3954 - acc: 0.9232 - val_loss: 0.4463 - val_acc: 0.8651\n",
      "Epoch 6/20\n",
      "25000/25000 [==============================] - 5s 202us/step - loss: 0.3731 - acc: 0.9349 - val_loss: 0.4563 - val_acc: 0.8520\n",
      "Epoch 7/20\n",
      "25000/25000 [==============================] - 5s 188us/step - loss: 0.3527 - acc: 0.9444 - val_loss: 0.4432 - val_acc: 0.8654\n",
      "Epoch 8/20\n",
      "25000/25000 [==============================] - 4s 169us/step - loss: 0.3352 - acc: 0.9518 - val_loss: 0.4384 - val_acc: 0.8701\n",
      "Epoch 9/20\n",
      "25000/25000 [==============================] - 5s 193us/step - loss: 0.3188 - acc: 0.9568 - val_loss: 0.4474 - val_acc: 0.8660\n",
      "Epoch 10/20\n",
      "25000/25000 [==============================] - 5s 193us/step - loss: 0.3040 - acc: 0.9616 - val_loss: 0.4421 - val_acc: 0.8688\n",
      "Epoch 11/20\n",
      "25000/25000 [==============================] - 5s 197us/step - loss: 0.2896 - acc: 0.9654 - val_loss: 0.4646 - val_acc: 0.8632\n",
      "Epoch 12/20\n",
      "25000/25000 [==============================] - 4s 172us/step - loss: 0.2768 - acc: 0.9699 - val_loss: 0.4626 - val_acc: 0.8657\n",
      "Epoch 13/20\n",
      "25000/25000 [==============================] - 4s 173us/step - loss: 0.2640 - acc: 0.9714 - val_loss: 0.4698 - val_acc: 0.8648\n",
      "Epoch 14/20\n",
      "25000/25000 [==============================] - 6s 236us/step - loss: 0.2522 - acc: 0.9736 - val_loss: 0.4857 - val_acc: 0.8621\n",
      "Epoch 15/20\n",
      "25000/25000 [==============================] - 6s 241us/step - loss: 0.2410 - acc: 0.9758 - val_loss: 0.5032 - val_acc: 0.8610\n",
      "Epoch 16/20\n",
      "25000/25000 [==============================] - 5s 188us/step - loss: 0.2294 - acc: 0.9781 - val_loss: 0.5524 - val_acc: 0.8547\n",
      "Epoch 17/20\n",
      "25000/25000 [==============================] - 5s 191us/step - loss: 0.2197 - acc: 0.9794 - val_loss: 0.5553 - val_acc: 0.8566\n",
      "Epoch 18/20\n",
      "25000/25000 [==============================] - 4s 173us/step - loss: 0.2099 - acc: 0.9806 - val_loss: 0.5778 - val_acc: 0.8558\n",
      "Epoch 19/20\n",
      "25000/25000 [==============================] - 5s 183us/step - loss: 0.2006 - acc: 0.9819 - val_loss: 0.6174 - val_acc: 0.8522\n",
      "Epoch 20/20\n",
      "25000/25000 [==============================] - 4s 175us/step - loss: 0.1924 - acc: 0.9829 - val_loss: 0.6425 - val_acc: 0.8526\n",
      "dict_keys(['val_loss', 'val_acc', 'loss', 'acc'])\n"
     ]
    }
   ],
   "source": [
    "# Train the new network\n",
    "smaller_model_hist = smaller_model.fit(x_train,y_train,\n",
    "                                       epochs=20,\n",
    "                                       batch_size=512,\n",
    "                                       validation_data=(x_test,y_test))\n",
    "smaller_dict = smaller_model_hist.history\n",
    "print(smaller_dict.keys())"
   ]
  },
  {
   "cell_type": "code",
   "execution_count": 7,
   "metadata": {},
   "outputs": [],
   "source": [
    "# Compare and plot the validation loss of Original model and smaller model\n",
    "import matplotlib.pyplot as plt\n",
    "epochs = range(1, 21)\n",
    "original_val_loss = original_dict['val_loss'] \n",
    "smaller_val_loss = smaller_dict['val_loss']"
   ]
  },
  {
   "cell_type": "code",
   "execution_count": 8,
   "metadata": {},
   "outputs": [
    {
     "data": {
      "image/png": "[encoded data removed]",
      "text/plain": [
       "<Figure size 432x288 with 1 Axes>"
      ]
     },
     "metadata": {
      "needs_background": "light"
     },
     "output_type": "display_data"
    }
   ],
   "source": [
    "# Plot the graph\n",
    "plt.plot(epochs, original_val_loss, 'b+', label='Original model')\n",
    "plt.plot(epochs, smaller_val_loss, 'bo', label='Smaller model')\n",
    "plt.xlabel('Epochs')\n",
    "plt.ylabel('Validation loss')\n",
    "plt.title('Validation loss of Original model and Smaller model')\n",
    "plt.legend()\n",
    "plt.show()\n",
    "# It seems that original model overfits after 6 epoches, while the smaller model overfits after 4 epoches.\n",
    "# The smaller network starts overfitting later than the reference one."
   ]
  },
  {
   "cell_type": "code",
   "execution_count": 9,
   "metadata": {},
   "outputs": [],
   "source": [
    "# Introduce another very big network\n",
    "bigger_model = models.Sequential()\n",
    "bigger_model.add(layers.Dense(512, activation='relu', input_shape=(10000, )))\n",
    "bigger_model.add(layers.Dense(512, activation='relu'))\n",
    "bigger_model.add(layers.Dense(1, activation='sigmoid'))\n",
    "\n",
    "bigger_model.compile(optimizer='rmsprop',\n",
    "                     loss='binary_crossentropy',\n",
    "                     metrics=['acc'])"
   ]
  },
  {
   "cell_type": "code",
   "execution_count": 10,
   "metadata": {},
   "outputs": [
    {
     "name": "stdout",
     "output_type": "stream",
     "text": [
      "Train on 25000 samples, validate on 25000 samples\n",
      "Epoch 1/20\n",
      "25000/25000 [==============================] - 18s 723us/step - loss: 0.4585 - acc: 0.7982 - val_loss: 0.3310 - val_acc: 0.8598\n",
      "Epoch 2/20\n",
      "25000/25000 [==============================] - 18s 718us/step - loss: 0.2213 - acc: 0.9111 - val_loss: 0.2811 - val_acc: 0.8867\n",
      "Epoch 3/20\n",
      "25000/25000 [==============================] - 20s 802us/step - loss: 0.1357 - acc: 0.9496 - val_loss: 0.3330 - val_acc: 0.8849\n",
      "Epoch 4/20\n",
      "25000/25000 [==============================] - 19s 770us/step - loss: 0.0577 - acc: 0.9811 - val_loss: 0.7984 - val_acc: 0.8192\n",
      "Epoch 5/20\n",
      "25000/25000 [==============================] - 19s 743us/step - loss: 0.0325 - acc: 0.9901 - val_loss: 0.5952 - val_acc: 0.8802\n",
      "Epoch 6/20\n",
      "25000/25000 [==============================] - 19s 755us/step - loss: 0.0988 - acc: 0.9874 - val_loss: 0.5331 - val_acc: 0.8785\n",
      "Epoch 7/20\n",
      "25000/25000 [==============================] - 18s 725us/step - loss: 9.4543e-04 - acc: 1.0000 - val_loss: 0.7420 - val_acc: 0.8815\n",
      "Epoch 8/20\n",
      "25000/25000 [==============================] - 19s 747us/step - loss: 1.5329e-04 - acc: 1.0000 - val_loss: 0.9099 - val_acc: 0.8797\n",
      "Epoch 9/20\n",
      "25000/25000 [==============================] - 18s 729us/step - loss: 0.1426 - acc: 0.9893 - val_loss: 0.7189 - val_acc: 0.8779\n",
      "Epoch 10/20\n",
      "25000/25000 [==============================] - 20s 801us/step - loss: 9.0172e-05 - acc: 1.0000 - val_loss: 0.8427 - val_acc: 0.8786\n",
      "Epoch 11/20\n",
      "25000/25000 [==============================] - 20s 788us/step - loss: 1.9360e-05 - acc: 1.0000 - val_loss: 0.9809 - val_acc: 0.8788\n",
      "Epoch 12/20\n",
      "25000/25000 [==============================] - 20s 780us/step - loss: 3.2777e-06 - acc: 1.0000 - val_loss: 1.1708 - val_acc: 0.8798\n",
      "Epoch 13/20\n",
      "25000/25000 [==============================] - 20s 784us/step - loss: 4.9604e-07 - acc: 1.0000 - val_loss: 1.3344 - val_acc: 0.8795\n",
      "Epoch 14/20\n",
      "25000/25000 [==============================] - 19s 769us/step - loss: 9.7272e-08 - acc: 1.0000 - val_loss: 1.4467 - val_acc: 0.8792\n",
      "Epoch 15/20\n",
      "25000/25000 [==============================] - 20s 799us/step - loss: 3.1720e-08 - acc: 1.0000 - val_loss: 1.5247 - val_acc: 0.8792\n",
      "Epoch 16/20\n",
      "25000/25000 [==============================] - 19s 773us/step - loss: 1.6985e-08 - acc: 1.0000 - val_loss: 1.5621 - val_acc: 0.8794\n",
      "Epoch 17/20\n",
      "25000/25000 [==============================] - 20s 784us/step - loss: 1.1584e-08 - acc: 1.0000 - val_loss: 1.5894 - val_acc: 0.8790\n",
      "Epoch 18/20\n",
      "25000/25000 [==============================] - 19s 751us/step - loss: 8.8122e-09 - acc: 1.0000 - val_loss: 1.6099 - val_acc: 0.8790\n",
      "Epoch 19/20\n",
      "25000/25000 [==============================] - 20s 811us/step - loss: 7.1256e-09 - acc: 1.0000 - val_loss: 1.6272 - val_acc: 0.8792\n",
      "Epoch 20/20\n",
      "25000/25000 [==============================] - 19s 767us/step - loss: 5.9930e-09 - acc: 1.0000 - val_loss: 1.6414 - val_acc: 0.8790\n",
      "{'val_loss': [0.33101422691345217, 0.281080960149765, 0.33301533652305604, 0.7983833555793762, 0.5952315627670288, 0.5331124802589416, 0.7419984029579163, 0.9099316841125489, 0.7188514477157593, 0.8427483268547058, 0.9808845089912415, 1.1708466518592835, 1.3343903254318237, 1.4466894035339355, 1.524742099647522, 1.5620808564758302, 1.5893699240875243, 1.6099321773529052, 1.6272347540664673, 1.6414042045593262], 'val_acc': [0.8597599864006042, 0.8867200016975403, 0.8849200010299683, 0.8192399740219116, 0.8802000284194946, 0.8785200119018555, 0.8814799785614014, 0.8796799778938293, 0.8779199719429016, 0.8785600066184998, 0.8787599802017212, 0.879800021648407, 0.8795199990272522, 0.8792399764060974, 0.8791599869728088, 0.8794400095939636, 0.879040002822876, 0.8789600133895874, 0.8791599869728088, 0.879040002822876], 'loss': [0.4585431194972992, 0.22126116690158845, 0.13574815816402436, 0.05770216131567955, 0.03254463996887207, 0.09879880183450877, 0.0009454319746978581, 0.00015329480779648292, 0.14260621788742486, 9.017224334413186e-05, 1.936043278372381e-05, 3.27768621238647e-06, 4.960387805294886e-07, 9.727186205282123e-08, 3.172017929273352e-08, 1.6984812681357653e-08, 1.1583924091951303e-08, 8.812215479991891e-09, 7.125572616075715e-09, 5.992970155830335e-09], 'acc': [0.79816, 0.91108, 0.9496, 0.98108, 0.99008, 0.98744, 0.99996, 1.0, 0.98928, 1.0, 1.0, 1.0, 1.0, 1.0, 1.0, 1.0, 1.0, 1.0, 1.0, 1.0]}\n"
     ]
    }
   ],
   "source": [
    "# Start training\n",
    "bigger_model_hist = bigger_model.fit(x_train,y_train,\n",
    "                                     epochs=20,\n",
    "                                     batch_size=512,\n",
    "                                     validation_data=(x_test,y_test))\n",
    "bigger_dict = bigger_model_hist.history\n",
    "print(bigger_dict)"
   ]
  },
  {
   "cell_type": "code",
   "execution_count": 11,
   "metadata": {},
   "outputs": [
    {
     "data": {
      "image/png": "[encoded data removed]",
      "text/plain": [
       "<Figure size 432x288 with 1 Axes>"
      ]
     },
     "metadata": {
      "needs_background": "light"
     },
     "output_type": "display_data"
    }
   ],
   "source": [
    "bigger_val_loss = bigger_dict['val_loss']\n",
    "plt.plot(epochs, original_val_loss, 'b+', label='Original model')\n",
    "plt.plot(epochs, bigger_val_loss, 'bo', label='Bigger model')\n",
    "plt.xlabel('Epochs')\n",
    "plt.ylabel('Validation loss')\n",
    "plt.title('The validation loss of bigger model and original model')\n",
    "plt.legend()\n",
    "plt.show()\n",
    "# The bigger network starts overfitting after one epoch, and overfits much more severely."
   ]
  },
  {
   "cell_type": "code",
   "execution_count": 13,
   "metadata": {},
   "outputs": [
    {
     "data": {
      "image/png": "[encoded data removed]",
      "text/plain": [
       "<Figure size 432x288 with 1 Axes>"
      ]
     },
     "metadata": {
      "needs_background": "light"
     },
     "output_type": "display_data"
    }
   ],
   "source": [
    "# Plot the training loss\n",
    "original_train_loss = original_hist.history['loss']\n",
    "bigger_train_loss = bigger_dict['loss']\n",
    "plt.plot(epochs, original_train_loss, 'b+', label='Original model')\n",
    "plt.plot(epochs, bigger_train_loss, 'bo', label='Bigger model')\n",
    "plt.title('Training loss between original model and bigger model')\n",
    "plt.xlabel('Epochs')\n",
    "plt.ylabel('Training loss')\n",
    "plt.legend()\n",
    "plt.show()\n",
    "# The bigger network gets its training loss near zero very quickly.\n",
    "# The more capacity the network has, the quickier it will be able to model the training data.\n",
    "# But the more susceptible it is to overfitting."
   ]
  },
  {
   "cell_type": "code",
   "execution_count": 14,
   "metadata": {},
   "outputs": [],
   "source": [
    "# Approach 2: Adding weight regularization\n",
    "from keras import regularizers\n",
    "l2_model = models.Sequential()\n",
    "l2_model.add(layers.Dense(16, kernel_regularizer=regularizers.l2(0.001),\n",
    "                          activation='relu', input_shape=(10000, )))\n",
    "l2_model.add(layers.Dense(16, kernel_regularizer=regularizers.l2(0.001),\n",
    "                          activation='relu'))\n",
    "l2_model.add(layers.Dense(1, activation='sigmoid'))"
   ]
  },
  {
   "cell_type": "code",
   "execution_count": 15,
   "metadata": {},
   "outputs": [],
   "source": [
    "l2_model.compile(optimizer='rmsprop',\n",
    "                 loss='binary_crossentropy',\n",
    "                 metrics=['acc'])"
   ]
  },
  {
   "cell_type": "code",
   "execution_count": 16,
   "metadata": {},
   "outputs": [
    {
     "name": "stdout",
     "output_type": "stream",
     "text": [
      "Train on 25000 samples, validate on 25000 samples\n",
      "Epoch 1/20\n",
      "25000/25000 [==============================] - 4s 161us/step - loss: 0.5018 - acc: 0.8179 - val_loss: 0.3836 - val_acc: 0.8815\n",
      "Epoch 2/20\n",
      "25000/25000 [==============================] - 3s 136us/step - loss: 0.3177 - acc: 0.9059 - val_loss: 0.3328 - val_acc: 0.8899\n",
      "Epoch 3/20\n",
      "25000/25000 [==============================] - 4s 154us/step - loss: 0.2686 - acc: 0.9207 - val_loss: 0.3301 - val_acc: 0.8888\n",
      "Epoch 4/20\n",
      "25000/25000 [==============================] - 3s 134us/step - loss: 0.2489 - acc: 0.9293 - val_loss: 0.3417 - val_acc: 0.8827\n",
      "Epoch 5/20\n",
      "25000/25000 [==============================] - 3s 122us/step - loss: 0.2356 - acc: 0.9331 - val_loss: 0.3381 - val_acc: 0.8856\n",
      "Epoch 6/20\n",
      "25000/25000 [==============================] - 3s 131us/step - loss: 0.2296 - acc: 0.9356 - val_loss: 0.3510 - val_acc: 0.8803\n",
      "Epoch 7/20\n",
      "25000/25000 [==============================] - 3s 139us/step - loss: 0.2209 - acc: 0.9393 - val_loss: 0.3543 - val_acc: 0.8798\n",
      "Epoch 8/20\n",
      "25000/25000 [==============================] - 3s 125us/step - loss: 0.2140 - acc: 0.9429 - val_loss: 0.3616 - val_acc: 0.8783\n",
      "Epoch 9/20\n",
      "25000/25000 [==============================] - 3s 126us/step - loss: 0.2133 - acc: 0.9438 - val_loss: 0.3720 - val_acc: 0.8763\n",
      "Epoch 10/20\n",
      "25000/25000 [==============================] - 4s 157us/step - loss: 0.2057 - acc: 0.9457 - val_loss: 0.3751 - val_acc: 0.8760\n",
      "Epoch 11/20\n",
      "25000/25000 [==============================] - 4s 173us/step - loss: 0.2094 - acc: 0.9419 - val_loss: 0.4222 - val_acc: 0.8625\n",
      "Epoch 12/20\n",
      "25000/25000 [==============================] - 5s 185us/step - loss: 0.2024 - acc: 0.9474 - val_loss: 0.3950 - val_acc: 0.8708\n",
      "Epoch 13/20\n",
      "25000/25000 [==============================] - 4s 174us/step - loss: 0.1995 - acc: 0.9485 - val_loss: 0.3912 - val_acc: 0.8726\n",
      "Epoch 14/20\n",
      "25000/25000 [==============================] - 4s 170us/step - loss: 0.1992 - acc: 0.9458 - val_loss: 0.3961 - val_acc: 0.8718\n",
      "Epoch 15/20\n",
      "25000/25000 [==============================] - 4s 141us/step - loss: 0.1944 - acc: 0.9485 - val_loss: 0.4753 - val_acc: 0.8516\n",
      "Epoch 16/20\n",
      "25000/25000 [==============================] - 4s 171us/step - loss: 0.1942 - acc: 0.9493 - val_loss: 0.4139 - val_acc: 0.8687\n",
      "Epoch 17/20\n",
      "25000/25000 [==============================] - 4s 173us/step - loss: 0.1885 - acc: 0.9510 - val_loss: 0.4359 - val_acc: 0.8642\n",
      "Epoch 18/20\n",
      "25000/25000 [==============================] - 4s 170us/step - loss: 0.1962 - acc: 0.9470 - val_loss: 0.4142 - val_acc: 0.8687\n",
      "Epoch 19/20\n",
      "25000/25000 [==============================] - 3s 135us/step - loss: 0.1882 - acc: 0.9508 - val_loss: 0.4811 - val_acc: 0.8541\n",
      "Epoch 20/20\n",
      "25000/25000 [==============================] - 4s 155us/step - loss: 0.1856 - acc: 0.9514 - val_loss: 0.4332 - val_acc: 0.8652\n"
     ]
    }
   ],
   "source": [
    "l2_model_hist = l2_model.fit(x_train, y_train,\n",
    "                             epochs=20,\n",
    "                             batch_size=512,\n",
    "                             validation_data=(x_test,y_test))"
   ]
  },
  {
   "cell_type": "code",
   "execution_count": 19,
   "metadata": {},
   "outputs": [
    {
     "data": {
      "image/png": "[encoded data removed]",
      "text/plain": [
       "<Figure size 432x288 with 1 Axes>"
      ]
     },
     "metadata": {
      "needs_background": "light"
     },
     "output_type": "display_data"
    }
   ],
   "source": [
    "# Plot the validation loss of l2 model and original model\n",
    "l2_model_val_loss = l2_model_hist.history['val_loss']\n",
    "original_model_val_loss = original_hist.history['val_loss']\n",
    "plt.plot(epochs, original_model_val_loss, 'b+', label='Original model')\n",
    "plt.plot(epochs, l2_model_val_loss, 'bo', label='L2-regularized model')\n",
    "plt.xlabel('Epochs')\n",
    "plt.ylabel('Validation Loss')\n",
    "plt.title('Validation loss of l2 model and original model')\n",
    "plt.legend()\n",
    "plt.show()\n",
    "# The model with L2 regularization has become much more "
   ]
  },
  {
   "cell_type": "code",
   "execution_count": 20,
   "metadata": {},
   "outputs": [
    {
     "data": {
      "text/plain": [
       "'\\nfrom keras import regularizers\\n# L1 regularization\\nregularizers.l1(0.001)\\n# L1 and L2 regularization at the same time\\nregularizers.l1_l2(l1=0.001, l2=0.001)\\n'"
      ]
     },
     "execution_count": 20,
     "metadata": {},
     "output_type": "execute_result"
    }
   ],
   "source": [
    "# Alternatives to L2 regularization\n",
    "'''\n",
    "from keras import regularizers\n",
    "# L1 regularization\n",
    "regularizers.l1(0.001)\n",
    "# L1 and L2 regularization at the same time\n",
    "regularizers.l1_l2(l1=0.001, l2=0.001)\n",
    "'''"
   ]
  },
  {
   "cell_type": "code",
   "execution_count": 24,
   "metadata": {},
   "outputs": [],
   "source": [
    "# Approach 3: Adding Dropout\n",
    "dp_model = models.Sequential()\n",
    "dp_model.add(layers.Dense(16, activation='relu', input_shape=(10000, )))\n",
    "dp_model.add(layers.Dropout(0.5))\n",
    "dp_model.add(layers.Dense(16, activation='relu'))\n",
    "dp_model.add(layers.Dropout(0.5))\n",
    "dp_model.add(layers.Dense(1, activation='sigmoid'))\n",
    "\n",
    "dp_model.compile(optimizer='rmsprop',\n",
    "                 loss='binary_crossentropy',\n",
    "                 metrics=['acc'])"
   ]
  },
  {
   "cell_type": "code",
   "execution_count": 25,
   "metadata": {},
   "outputs": [
    {
     "name": "stdout",
     "output_type": "stream",
     "text": [
      "Train on 25000 samples, validate on 25000 samples\n",
      "Epoch 1/20\n",
      "25000/25000 [==============================] - 4s 166us/step - loss: 0.6104 - acc: 0.6617 - val_loss: 0.4764 - val_acc: 0.8602\n",
      "Epoch 2/20\n",
      "25000/25000 [==============================] - 3s 139us/step - loss: 0.4635 - acc: 0.7989 - val_loss: 0.3516 - val_acc: 0.8798\n",
      "Epoch 3/20\n",
      "25000/25000 [==============================] - 3s 138us/step - loss: 0.3706 - acc: 0.8555 - val_loss: 0.3010 - val_acc: 0.8878\n",
      "Epoch 4/20\n",
      "25000/25000 [==============================] - 4s 153us/step - loss: 0.3079 - acc: 0.8884 - val_loss: 0.2781 - val_acc: 0.8884\n",
      "Epoch 5/20\n",
      "25000/25000 [==============================] - 3s 140us/step - loss: 0.2705 - acc: 0.9062 - val_loss: 0.2774 - val_acc: 0.8881\n",
      "Epoch 6/20\n",
      "25000/25000 [==============================] - 4s 158us/step - loss: 0.2398 - acc: 0.9191 - val_loss: 0.2851 - val_acc: 0.8872\n",
      "Epoch 7/20\n",
      "25000/25000 [==============================] - 4s 143us/step - loss: 0.2159 - acc: 0.9275 - val_loss: 0.2984 - val_acc: 0.8872\n",
      "Epoch 8/20\n",
      "25000/25000 [==============================] - 4s 145us/step - loss: 0.1967 - acc: 0.9338 - val_loss: 0.3136 - val_acc: 0.8854\n",
      "Epoch 9/20\n",
      "25000/25000 [==============================] - 3s 131us/step - loss: 0.1814 - acc: 0.9388 - val_loss: 0.3419 - val_acc: 0.8841\n",
      "Epoch 10/20\n",
      "25000/25000 [==============================] - 3s 133us/step - loss: 0.1680 - acc: 0.9456 - val_loss: 0.3533 - val_acc: 0.8817\n",
      "Epoch 11/20\n",
      "25000/25000 [==============================] - 4s 146us/step - loss: 0.1635 - acc: 0.9458 - val_loss: 0.3849 - val_acc: 0.8828\n",
      "Epoch 12/20\n",
      "25000/25000 [==============================] - 4s 155us/step - loss: 0.1504 - acc: 0.9493 - val_loss: 0.3959 - val_acc: 0.8817\n",
      "Epoch 13/20\n",
      "25000/25000 [==============================] - 4s 156us/step - loss: 0.1464 - acc: 0.9516 - val_loss: 0.3997 - val_acc: 0.8790\n",
      "Epoch 14/20\n",
      "25000/25000 [==============================] - 4s 146us/step - loss: 0.1414 - acc: 0.9533 - val_loss: 0.4293 - val_acc: 0.8789\n",
      "Epoch 15/20\n",
      "25000/25000 [==============================] - 4s 140us/step - loss: 0.1332 - acc: 0.9571 - val_loss: 0.4767 - val_acc: 0.8763\n",
      "Epoch 16/20\n",
      "25000/25000 [==============================] - 4s 147us/step - loss: 0.1289 - acc: 0.9582 - val_loss: 0.4886 - val_acc: 0.8751\n",
      "Epoch 17/20\n",
      "25000/25000 [==============================] - 4s 176us/step - loss: 0.1265 - acc: 0.9595 - val_loss: 0.5025 - val_acc: 0.8748\n",
      "Epoch 18/20\n",
      "25000/25000 [==============================] - 3s 138us/step - loss: 0.1217 - acc: 0.9606 - val_loss: 0.5190 - val_acc: 0.8752\n",
      "Epoch 19/20\n",
      "25000/25000 [==============================] - 3s 135us/step - loss: 0.1177 - acc: 0.9610 - val_loss: 0.5482 - val_acc: 0.8706\n",
      "Epoch 20/20\n",
      "25000/25000 [==============================] - 4s 149us/step - loss: 0.1208 - acc: 0.9604 - val_loss: 0.5645 - val_acc: 0.8732\n"
     ]
    }
   ],
   "source": [
    "dp_model_hist = dp_model.fit(x_train,y_train,\n",
    "                             epochs=20,\n",
    "                             batch_size=512,\n",
    "                             validation_data=(x_test, y_test))"
   ]
  },
  {
   "cell_type": "code",
   "execution_count": 26,
   "metadata": {},
   "outputs": [
    {
     "data": {
      "image/png": "[encoded data removed]",
      "text/plain": [
       "<Figure size 432x288 with 1 Axes>"
      ]
     },
     "metadata": {
      "needs_background": "light"
     },
     "output_type": "display_data"
    }
   ],
   "source": [
    "# Compare the validation loss with dropout and original model.\n",
    "epochs = range(1, 21)\n",
    "original_model_val_loss = original_hist.history['val_loss']\n",
    "dp_model_val_loss = dp_model_hist.history['val_loss']\n",
    "plt.plot(epochs, original_model_val_loss, 'b+', label='Original model')\n",
    "plt.plot(epochs, dp_model_val_loss, 'bo', label='Dropout-regularized model')\n",
    "plt.xlabel('Epochs')\n",
    "plt.ylabel('Validation loss')\n",
    "plt.legend()\n",
    "plt.show()"
   ]
  },
  {
   "cell_type": "code",
   "execution_count": null,
   "metadata": {},
   "outputs": [],
   "source": [
    "# 4-common ways to prevent overfitting in neural networks\n",
    "# 1. Getting more training data\n",
    "# 2. Reducing the capacity of the network\n",
    "# 3. Adding weight regularization\n",
    "# 4. Adding dropout."
   ]
  }
 ],
 "metadata": {
  "kernelspec": {
   "display_name": "Python 3",
   "language": "python",
   "name": "python3"
  },
  "language_info": {
   "codemirror_mode": {
    "name": "ipython",
    "version": 3
   },
   "file_extension": ".py",
   "mimetype": "text/x-python",
   "name": "python",
   "nbconvert_exporter": "python",
   "pygments_lexer": "ipython3",
   "version": "3.7.6"
  }
 },
 "nbformat": 4,
 "nbformat_minor": 2
}
